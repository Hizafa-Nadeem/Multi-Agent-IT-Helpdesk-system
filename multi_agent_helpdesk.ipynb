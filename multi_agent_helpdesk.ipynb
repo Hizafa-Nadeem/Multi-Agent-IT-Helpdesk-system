{
  "cells": [
    {
      "cell_type": "code",
      "source": [
        "# %pip install -U --quiet langchain-community tiktoken langchain-openai langchainhub chromadb langchain langgraph langchain-text-splitters"
      ],
      "metadata": {
        "id": "5lnKZgMS9Y2D"
      },
      "id": "5lnKZgMS9Y2D",
      "execution_count": null,
      "outputs": []
    },
    {
      "cell_type": "code",
      "execution_count": null,
      "id": "c80a7c9e",
      "metadata": {
        "colab": {
          "base_uri": "https://localhost:8080/"
        },
        "id": "c80a7c9e",
        "outputId": "676d51cf-8fa3-4784-c5be-49bf81ce28f2"
      },
      "outputs": [
        {
          "output_type": "stream",
          "name": "stdout",
          "text": [
            "Requirement already satisfied: langsmith in /usr/local/lib/python3.11/dist-packages (0.3.28)\n",
            "Requirement already satisfied: openai in /usr/local/lib/python3.11/dist-packages (1.72.0)\n",
            "Requirement already satisfied: httpx<1,>=0.23.0 in /usr/local/lib/python3.11/dist-packages (from langsmith) (0.28.1)\n",
            "Requirement already satisfied: orjson<4.0.0,>=3.9.14 in /usr/local/lib/python3.11/dist-packages (from langsmith) (3.10.16)\n",
            "Requirement already satisfied: packaging>=23.2 in /usr/local/lib/python3.11/dist-packages (from langsmith) (24.2)\n",
            "Requirement already satisfied: pydantic<3,>=1 in /usr/local/lib/python3.11/dist-packages (from langsmith) (2.11.2)\n",
            "Requirement already satisfied: requests<3,>=2 in /usr/local/lib/python3.11/dist-packages (from langsmith) (2.32.3)\n",
            "Requirement already satisfied: requests-toolbelt<2.0.0,>=1.0.0 in /usr/local/lib/python3.11/dist-packages (from langsmith) (1.0.0)\n",
            "Requirement already satisfied: zstandard<0.24.0,>=0.23.0 in /usr/local/lib/python3.11/dist-packages (from langsmith) (0.23.0)\n",
            "Requirement already satisfied: anyio<5,>=3.5.0 in /usr/local/lib/python3.11/dist-packages (from openai) (4.9.0)\n",
            "Requirement already satisfied: distro<2,>=1.7.0 in /usr/local/lib/python3.11/dist-packages (from openai) (1.9.0)\n",
            "Requirement already satisfied: jiter<1,>=0.4.0 in /usr/local/lib/python3.11/dist-packages (from openai) (0.9.0)\n",
            "Requirement already satisfied: sniffio in /usr/local/lib/python3.11/dist-packages (from openai) (1.3.1)\n",
            "Requirement already satisfied: tqdm>4 in /usr/local/lib/python3.11/dist-packages (from openai) (4.67.1)\n",
            "Requirement already satisfied: typing-extensions<5,>=4.11 in /usr/local/lib/python3.11/dist-packages (from openai) (4.13.1)\n",
            "Requirement already satisfied: idna>=2.8 in /usr/local/lib/python3.11/dist-packages (from anyio<5,>=3.5.0->openai) (3.10)\n",
            "Requirement already satisfied: certifi in /usr/local/lib/python3.11/dist-packages (from httpx<1,>=0.23.0->langsmith) (2025.1.31)\n",
            "Requirement already satisfied: httpcore==1.* in /usr/local/lib/python3.11/dist-packages (from httpx<1,>=0.23.0->langsmith) (1.0.7)\n",
            "Requirement already satisfied: h11<0.15,>=0.13 in /usr/local/lib/python3.11/dist-packages (from httpcore==1.*->httpx<1,>=0.23.0->langsmith) (0.14.0)\n",
            "Requirement already satisfied: annotated-types>=0.6.0 in /usr/local/lib/python3.11/dist-packages (from pydantic<3,>=1->langsmith) (0.7.0)\n",
            "Requirement already satisfied: pydantic-core==2.33.1 in /usr/local/lib/python3.11/dist-packages (from pydantic<3,>=1->langsmith) (2.33.1)\n",
            "Requirement already satisfied: typing-inspection>=0.4.0 in /usr/local/lib/python3.11/dist-packages (from pydantic<3,>=1->langsmith) (0.4.0)\n",
            "Requirement already satisfied: charset-normalizer<4,>=2 in /usr/local/lib/python3.11/dist-packages (from requests<3,>=2->langsmith) (3.4.1)\n",
            "Requirement already satisfied: urllib3<3,>=1.21.1 in /usr/local/lib/python3.11/dist-packages (from requests<3,>=2->langsmith) (2.3.0)\n",
            "Requirement already satisfied: tiktoken in /usr/local/lib/python3.11/dist-packages (0.9.0)\n",
            "Requirement already satisfied: regex>=2022.1.18 in /usr/local/lib/python3.11/dist-packages (from tiktoken) (2024.11.6)\n",
            "Requirement already satisfied: requests>=2.26.0 in /usr/local/lib/python3.11/dist-packages (from tiktoken) (2.32.3)\n",
            "Requirement already satisfied: charset-normalizer<4,>=2 in /usr/local/lib/python3.11/dist-packages (from requests>=2.26.0->tiktoken) (3.4.1)\n",
            "Requirement already satisfied: idna<4,>=2.5 in /usr/local/lib/python3.11/dist-packages (from requests>=2.26.0->tiktoken) (3.10)\n",
            "Requirement already satisfied: urllib3<3,>=1.21.1 in /usr/local/lib/python3.11/dist-packages (from requests>=2.26.0->tiktoken) (2.3.0)\n",
            "Requirement already satisfied: certifi>=2017.4.17 in /usr/local/lib/python3.11/dist-packages (from requests>=2.26.0->tiktoken) (2025.1.31)\n",
            "Requirement already satisfied: langchain-openai in /usr/local/lib/python3.11/dist-packages (0.3.12)\n",
            "Requirement already satisfied: langchain-core<1.0.0,>=0.3.49 in /usr/local/lib/python3.11/dist-packages (from langchain-openai) (0.3.51)\n",
            "Requirement already satisfied: openai<2.0.0,>=1.68.2 in /usr/local/lib/python3.11/dist-packages (from langchain-openai) (1.72.0)\n",
            "Requirement already satisfied: tiktoken<1,>=0.7 in /usr/local/lib/python3.11/dist-packages (from langchain-openai) (0.9.0)\n",
            "Requirement already satisfied: langsmith<0.4,>=0.1.125 in /usr/local/lib/python3.11/dist-packages (from langchain-core<1.0.0,>=0.3.49->langchain-openai) (0.3.28)\n",
            "Requirement already satisfied: tenacity!=8.4.0,<10.0.0,>=8.1.0 in /usr/local/lib/python3.11/dist-packages (from langchain-core<1.0.0,>=0.3.49->langchain-openai) (9.1.2)\n",
            "Requirement already satisfied: jsonpatch<2.0,>=1.33 in /usr/local/lib/python3.11/dist-packages (from langchain-core<1.0.0,>=0.3.49->langchain-openai) (1.33)\n",
            "Requirement already satisfied: PyYAML>=5.3 in /usr/local/lib/python3.11/dist-packages (from langchain-core<1.0.0,>=0.3.49->langchain-openai) (6.0.2)\n",
            "Requirement already satisfied: packaging<25,>=23.2 in /usr/local/lib/python3.11/dist-packages (from langchain-core<1.0.0,>=0.3.49->langchain-openai) (24.2)\n",
            "Requirement already satisfied: typing-extensions>=4.7 in /usr/local/lib/python3.11/dist-packages (from langchain-core<1.0.0,>=0.3.49->langchain-openai) (4.13.1)\n",
            "Requirement already satisfied: pydantic<3.0.0,>=2.5.2 in /usr/local/lib/python3.11/dist-packages (from langchain-core<1.0.0,>=0.3.49->langchain-openai) (2.11.2)\n",
            "Requirement already satisfied: anyio<5,>=3.5.0 in /usr/local/lib/python3.11/dist-packages (from openai<2.0.0,>=1.68.2->langchain-openai) (4.9.0)\n",
            "Requirement already satisfied: distro<2,>=1.7.0 in /usr/local/lib/python3.11/dist-packages (from openai<2.0.0,>=1.68.2->langchain-openai) (1.9.0)\n",
            "Requirement already satisfied: httpx<1,>=0.23.0 in /usr/local/lib/python3.11/dist-packages (from openai<2.0.0,>=1.68.2->langchain-openai) (0.28.1)\n",
            "Requirement already satisfied: jiter<1,>=0.4.0 in /usr/local/lib/python3.11/dist-packages (from openai<2.0.0,>=1.68.2->langchain-openai) (0.9.0)\n",
            "Requirement already satisfied: sniffio in /usr/local/lib/python3.11/dist-packages (from openai<2.0.0,>=1.68.2->langchain-openai) (1.3.1)\n",
            "Requirement already satisfied: tqdm>4 in /usr/local/lib/python3.11/dist-packages (from openai<2.0.0,>=1.68.2->langchain-openai) (4.67.1)\n",
            "Requirement already satisfied: regex>=2022.1.18 in /usr/local/lib/python3.11/dist-packages (from tiktoken<1,>=0.7->langchain-openai) (2024.11.6)\n",
            "Requirement already satisfied: requests>=2.26.0 in /usr/local/lib/python3.11/dist-packages (from tiktoken<1,>=0.7->langchain-openai) (2.32.3)\n",
            "Requirement already satisfied: idna>=2.8 in /usr/local/lib/python3.11/dist-packages (from anyio<5,>=3.5.0->openai<2.0.0,>=1.68.2->langchain-openai) (3.10)\n",
            "Requirement already satisfied: certifi in /usr/local/lib/python3.11/dist-packages (from httpx<1,>=0.23.0->openai<2.0.0,>=1.68.2->langchain-openai) (2025.1.31)\n",
            "Requirement already satisfied: httpcore==1.* in /usr/local/lib/python3.11/dist-packages (from httpx<1,>=0.23.0->openai<2.0.0,>=1.68.2->langchain-openai) (1.0.7)\n",
            "Requirement already satisfied: h11<0.15,>=0.13 in /usr/local/lib/python3.11/dist-packages (from httpcore==1.*->httpx<1,>=0.23.0->openai<2.0.0,>=1.68.2->langchain-openai) (0.14.0)\n",
            "Requirement already satisfied: jsonpointer>=1.9 in /usr/local/lib/python3.11/dist-packages (from jsonpatch<2.0,>=1.33->langchain-core<1.0.0,>=0.3.49->langchain-openai) (3.0.0)\n",
            "Requirement already satisfied: orjson<4.0.0,>=3.9.14 in /usr/local/lib/python3.11/dist-packages (from langsmith<0.4,>=0.1.125->langchain-core<1.0.0,>=0.3.49->langchain-openai) (3.10.16)\n",
            "Requirement already satisfied: requests-toolbelt<2.0.0,>=1.0.0 in /usr/local/lib/python3.11/dist-packages (from langsmith<0.4,>=0.1.125->langchain-core<1.0.0,>=0.3.49->langchain-openai) (1.0.0)\n",
            "Requirement already satisfied: zstandard<0.24.0,>=0.23.0 in /usr/local/lib/python3.11/dist-packages (from langsmith<0.4,>=0.1.125->langchain-core<1.0.0,>=0.3.49->langchain-openai) (0.23.0)\n",
            "Requirement already satisfied: annotated-types>=0.6.0 in /usr/local/lib/python3.11/dist-packages (from pydantic<3.0.0,>=2.5.2->langchain-core<1.0.0,>=0.3.49->langchain-openai) (0.7.0)\n",
            "Requirement already satisfied: pydantic-core==2.33.1 in /usr/local/lib/python3.11/dist-packages (from pydantic<3.0.0,>=2.5.2->langchain-core<1.0.0,>=0.3.49->langchain-openai) (2.33.1)\n",
            "Requirement already satisfied: typing-inspection>=0.4.0 in /usr/local/lib/python3.11/dist-packages (from pydantic<3.0.0,>=2.5.2->langchain-core<1.0.0,>=0.3.49->langchain-openai) (0.4.0)\n",
            "Requirement already satisfied: charset-normalizer<4,>=2 in /usr/local/lib/python3.11/dist-packages (from requests>=2.26.0->tiktoken<1,>=0.7->langchain-openai) (3.4.1)\n",
            "Requirement already satisfied: urllib3<3,>=1.21.1 in /usr/local/lib/python3.11/dist-packages (from requests>=2.26.0->tiktoken<1,>=0.7->langchain-openai) (2.3.0)\n",
            "Requirement already satisfied: chromadb in /usr/local/lib/python3.11/dist-packages (1.0.4)\n",
            "Requirement already satisfied: build>=1.0.3 in /usr/local/lib/python3.11/dist-packages (from chromadb) (1.2.2.post1)\n",
            "Requirement already satisfied: pydantic>=1.9 in /usr/local/lib/python3.11/dist-packages (from chromadb) (2.11.2)\n",
            "Requirement already satisfied: chroma-hnswlib==0.7.6 in /usr/local/lib/python3.11/dist-packages (from chromadb) (0.7.6)\n",
            "Requirement already satisfied: fastapi==0.115.9 in /usr/local/lib/python3.11/dist-packages (from chromadb) (0.115.9)\n",
            "Requirement already satisfied: uvicorn>=0.18.3 in /usr/local/lib/python3.11/dist-packages (from uvicorn[standard]>=0.18.3->chromadb) (0.34.0)\n",
            "Requirement already satisfied: numpy>=1.22.5 in /usr/local/lib/python3.11/dist-packages (from chromadb) (2.0.2)\n",
            "Requirement already satisfied: posthog>=2.4.0 in /usr/local/lib/python3.11/dist-packages (from chromadb) (3.24.0)\n",
            "Requirement already satisfied: typing-extensions>=4.5.0 in /usr/local/lib/python3.11/dist-packages (from chromadb) (4.13.1)\n",
            "Requirement already satisfied: onnxruntime>=1.14.1 in /usr/local/lib/python3.11/dist-packages (from chromadb) (1.21.0)\n",
            "Requirement already satisfied: opentelemetry-api>=1.2.0 in /usr/local/lib/python3.11/dist-packages (from chromadb) (1.32.0)\n",
            "Requirement already satisfied: opentelemetry-exporter-otlp-proto-grpc>=1.2.0 in /usr/local/lib/python3.11/dist-packages (from chromadb) (1.32.0)\n",
            "Requirement already satisfied: opentelemetry-instrumentation-fastapi>=0.41b0 in /usr/local/lib/python3.11/dist-packages (from chromadb) (0.53b0)\n",
            "Requirement already satisfied: opentelemetry-sdk>=1.2.0 in /usr/local/lib/python3.11/dist-packages (from chromadb) (1.32.0)\n",
            "Requirement already satisfied: tokenizers>=0.13.2 in /usr/local/lib/python3.11/dist-packages (from chromadb) (0.21.1)\n",
            "Requirement already satisfied: pypika>=0.48.9 in /usr/local/lib/python3.11/dist-packages (from chromadb) (0.48.9)\n",
            "Requirement already satisfied: tqdm>=4.65.0 in /usr/local/lib/python3.11/dist-packages (from chromadb) (4.67.1)\n",
            "Requirement already satisfied: overrides>=7.3.1 in /usr/local/lib/python3.11/dist-packages (from chromadb) (7.7.0)\n",
            "Requirement already satisfied: importlib-resources in /usr/local/lib/python3.11/dist-packages (from chromadb) (6.5.2)\n",
            "Requirement already satisfied: grpcio>=1.58.0 in /usr/local/lib/python3.11/dist-packages (from chromadb) (1.71.0)\n",
            "Requirement already satisfied: bcrypt>=4.0.1 in /usr/local/lib/python3.11/dist-packages (from chromadb) (4.3.0)\n",
            "Requirement already satisfied: typer>=0.9.0 in /usr/local/lib/python3.11/dist-packages (from chromadb) (0.15.2)\n",
            "Requirement already satisfied: kubernetes>=28.1.0 in /usr/local/lib/python3.11/dist-packages (from chromadb) (32.0.1)\n",
            "Requirement already satisfied: tenacity>=8.2.3 in /usr/local/lib/python3.11/dist-packages (from chromadb) (9.1.2)\n",
            "Requirement already satisfied: pyyaml>=6.0.0 in /usr/local/lib/python3.11/dist-packages (from chromadb) (6.0.2)\n",
            "Requirement already satisfied: mmh3>=4.0.1 in /usr/local/lib/python3.11/dist-packages (from chromadb) (5.1.0)\n",
            "Requirement already satisfied: orjson>=3.9.12 in /usr/local/lib/python3.11/dist-packages (from chromadb) (3.10.16)\n",
            "Requirement already satisfied: httpx>=0.27.0 in /usr/local/lib/python3.11/dist-packages (from chromadb) (0.28.1)\n",
            "Requirement already satisfied: rich>=10.11.0 in /usr/local/lib/python3.11/dist-packages (from chromadb) (13.9.4)\n",
            "Requirement already satisfied: jsonschema>=4.19.0 in /usr/local/lib/python3.11/dist-packages (from chromadb) (4.23.0)\n",
            "Requirement already satisfied: starlette<0.46.0,>=0.40.0 in /usr/local/lib/python3.11/dist-packages (from fastapi==0.115.9->chromadb) (0.45.3)\n",
            "Requirement already satisfied: packaging>=19.1 in /usr/local/lib/python3.11/dist-packages (from build>=1.0.3->chromadb) (24.2)\n",
            "Requirement already satisfied: pyproject_hooks in /usr/local/lib/python3.11/dist-packages (from build>=1.0.3->chromadb) (1.2.0)\n",
            "Requirement already satisfied: anyio in /usr/local/lib/python3.11/dist-packages (from httpx>=0.27.0->chromadb) (4.9.0)\n",
            "Requirement already satisfied: certifi in /usr/local/lib/python3.11/dist-packages (from httpx>=0.27.0->chromadb) (2025.1.31)\n",
            "Requirement already satisfied: httpcore==1.* in /usr/local/lib/python3.11/dist-packages (from httpx>=0.27.0->chromadb) (1.0.7)\n",
            "Requirement already satisfied: idna in /usr/local/lib/python3.11/dist-packages (from httpx>=0.27.0->chromadb) (3.10)\n",
            "Requirement already satisfied: h11<0.15,>=0.13 in /usr/local/lib/python3.11/dist-packages (from httpcore==1.*->httpx>=0.27.0->chromadb) (0.14.0)\n",
            "Requirement already satisfied: attrs>=22.2.0 in /usr/local/lib/python3.11/dist-packages (from jsonschema>=4.19.0->chromadb) (25.3.0)\n",
            "Requirement already satisfied: jsonschema-specifications>=2023.03.6 in /usr/local/lib/python3.11/dist-packages (from jsonschema>=4.19.0->chromadb) (2024.10.1)\n",
            "Requirement already satisfied: referencing>=0.28.4 in /usr/local/lib/python3.11/dist-packages (from jsonschema>=4.19.0->chromadb) (0.36.2)\n",
            "Requirement already satisfied: rpds-py>=0.7.1 in /usr/local/lib/python3.11/dist-packages (from jsonschema>=4.19.0->chromadb) (0.24.0)\n",
            "Requirement already satisfied: six>=1.9.0 in /usr/local/lib/python3.11/dist-packages (from kubernetes>=28.1.0->chromadb) (1.17.0)\n",
            "Requirement already satisfied: python-dateutil>=2.5.3 in /usr/local/lib/python3.11/dist-packages (from kubernetes>=28.1.0->chromadb) (2.8.2)\n",
            "Requirement already satisfied: google-auth>=1.0.1 in /usr/local/lib/python3.11/dist-packages (from kubernetes>=28.1.0->chromadb) (2.38.0)\n",
            "Requirement already satisfied: websocket-client!=0.40.0,!=0.41.*,!=0.42.*,>=0.32.0 in /usr/local/lib/python3.11/dist-packages (from kubernetes>=28.1.0->chromadb) (1.8.0)\n",
            "Requirement already satisfied: requests in /usr/local/lib/python3.11/dist-packages (from kubernetes>=28.1.0->chromadb) (2.32.3)\n",
            "Requirement already satisfied: requests-oauthlib in /usr/local/lib/python3.11/dist-packages (from kubernetes>=28.1.0->chromadb) (2.0.0)\n",
            "Requirement already satisfied: oauthlib>=3.2.2 in /usr/local/lib/python3.11/dist-packages (from kubernetes>=28.1.0->chromadb) (3.2.2)\n",
            "Requirement already satisfied: urllib3>=1.24.2 in /usr/local/lib/python3.11/dist-packages (from kubernetes>=28.1.0->chromadb) (2.3.0)\n",
            "Requirement already satisfied: durationpy>=0.7 in /usr/local/lib/python3.11/dist-packages (from kubernetes>=28.1.0->chromadb) (0.9)\n",
            "Requirement already satisfied: coloredlogs in /usr/local/lib/python3.11/dist-packages (from onnxruntime>=1.14.1->chromadb) (15.0.1)\n",
            "Requirement already satisfied: flatbuffers in /usr/local/lib/python3.11/dist-packages (from onnxruntime>=1.14.1->chromadb) (25.2.10)\n",
            "Requirement already satisfied: protobuf in /usr/local/lib/python3.11/dist-packages (from onnxruntime>=1.14.1->chromadb) (5.29.4)\n",
            "Requirement already satisfied: sympy in /usr/local/lib/python3.11/dist-packages (from onnxruntime>=1.14.1->chromadb) (1.13.1)\n",
            "Requirement already satisfied: deprecated>=1.2.6 in /usr/local/lib/python3.11/dist-packages (from opentelemetry-api>=1.2.0->chromadb) (1.2.18)\n",
            "Requirement already satisfied: importlib-metadata<8.7.0,>=6.0 in /usr/local/lib/python3.11/dist-packages (from opentelemetry-api>=1.2.0->chromadb) (8.6.1)\n",
            "Requirement already satisfied: googleapis-common-protos~=1.52 in /usr/local/lib/python3.11/dist-packages (from opentelemetry-exporter-otlp-proto-grpc>=1.2.0->chromadb) (1.69.2)\n",
            "Requirement already satisfied: opentelemetry-exporter-otlp-proto-common==1.32.0 in /usr/local/lib/python3.11/dist-packages (from opentelemetry-exporter-otlp-proto-grpc>=1.2.0->chromadb) (1.32.0)\n",
            "Requirement already satisfied: opentelemetry-proto==1.32.0 in /usr/local/lib/python3.11/dist-packages (from opentelemetry-exporter-otlp-proto-grpc>=1.2.0->chromadb) (1.32.0)\n",
            "Requirement already satisfied: opentelemetry-instrumentation-asgi==0.53b0 in /usr/local/lib/python3.11/dist-packages (from opentelemetry-instrumentation-fastapi>=0.41b0->chromadb) (0.53b0)\n",
            "Requirement already satisfied: opentelemetry-instrumentation==0.53b0 in /usr/local/lib/python3.11/dist-packages (from opentelemetry-instrumentation-fastapi>=0.41b0->chromadb) (0.53b0)\n",
            "Requirement already satisfied: opentelemetry-semantic-conventions==0.53b0 in /usr/local/lib/python3.11/dist-packages (from opentelemetry-instrumentation-fastapi>=0.41b0->chromadb) (0.53b0)\n",
            "Requirement already satisfied: opentelemetry-util-http==0.53b0 in /usr/local/lib/python3.11/dist-packages (from opentelemetry-instrumentation-fastapi>=0.41b0->chromadb) (0.53b0)\n",
            "Requirement already satisfied: wrapt<2.0.0,>=1.0.0 in /usr/local/lib/python3.11/dist-packages (from opentelemetry-instrumentation==0.53b0->opentelemetry-instrumentation-fastapi>=0.41b0->chromadb) (1.17.2)\n",
            "Requirement already satisfied: asgiref~=3.0 in /usr/local/lib/python3.11/dist-packages (from opentelemetry-instrumentation-asgi==0.53b0->opentelemetry-instrumentation-fastapi>=0.41b0->chromadb) (3.8.1)\n",
            "Requirement already satisfied: monotonic>=1.5 in /usr/local/lib/python3.11/dist-packages (from posthog>=2.4.0->chromadb) (1.6)\n",
            "Requirement already satisfied: backoff>=1.10.0 in /usr/local/lib/python3.11/dist-packages (from posthog>=2.4.0->chromadb) (2.2.1)\n",
            "Requirement already satisfied: distro>=1.5.0 in /usr/local/lib/python3.11/dist-packages (from posthog>=2.4.0->chromadb) (1.9.0)\n",
            "Requirement already satisfied: annotated-types>=0.6.0 in /usr/local/lib/python3.11/dist-packages (from pydantic>=1.9->chromadb) (0.7.0)\n",
            "Requirement already satisfied: pydantic-core==2.33.1 in /usr/local/lib/python3.11/dist-packages (from pydantic>=1.9->chromadb) (2.33.1)\n",
            "Requirement already satisfied: typing-inspection>=0.4.0 in /usr/local/lib/python3.11/dist-packages (from pydantic>=1.9->chromadb) (0.4.0)\n",
            "Requirement already satisfied: markdown-it-py>=2.2.0 in /usr/local/lib/python3.11/dist-packages (from rich>=10.11.0->chromadb) (3.0.0)\n",
            "Requirement already satisfied: pygments<3.0.0,>=2.13.0 in /usr/local/lib/python3.11/dist-packages (from rich>=10.11.0->chromadb) (2.18.0)\n",
            "Requirement already satisfied: huggingface-hub<1.0,>=0.16.4 in /usr/local/lib/python3.11/dist-packages (from tokenizers>=0.13.2->chromadb) (0.30.1)\n",
            "Requirement already satisfied: click>=8.0.0 in /usr/local/lib/python3.11/dist-packages (from typer>=0.9.0->chromadb) (8.1.8)\n",
            "Requirement already satisfied: shellingham>=1.3.0 in /usr/local/lib/python3.11/dist-packages (from typer>=0.9.0->chromadb) (1.5.4)\n",
            "Requirement already satisfied: httptools>=0.6.3 in /usr/local/lib/python3.11/dist-packages (from uvicorn[standard]>=0.18.3->chromadb) (0.6.4)\n",
            "Requirement already satisfied: python-dotenv>=0.13 in /usr/local/lib/python3.11/dist-packages (from uvicorn[standard]>=0.18.3->chromadb) (1.1.0)\n",
            "Requirement already satisfied: uvloop!=0.15.0,!=0.15.1,>=0.14.0 in /usr/local/lib/python3.11/dist-packages (from uvicorn[standard]>=0.18.3->chromadb) (0.21.0)\n",
            "Requirement already satisfied: watchfiles>=0.13 in /usr/local/lib/python3.11/dist-packages (from uvicorn[standard]>=0.18.3->chromadb) (1.0.5)\n",
            "Requirement already satisfied: websockets>=10.4 in /usr/local/lib/python3.11/dist-packages (from uvicorn[standard]>=0.18.3->chromadb) (15.0.1)\n",
            "Requirement already satisfied: cachetools<6.0,>=2.0.0 in /usr/local/lib/python3.11/dist-packages (from google-auth>=1.0.1->kubernetes>=28.1.0->chromadb) (5.5.2)\n",
            "Requirement already satisfied: pyasn1-modules>=0.2.1 in /usr/local/lib/python3.11/dist-packages (from google-auth>=1.0.1->kubernetes>=28.1.0->chromadb) (0.4.2)\n",
            "Requirement already satisfied: rsa<5,>=3.1.4 in /usr/local/lib/python3.11/dist-packages (from google-auth>=1.0.1->kubernetes>=28.1.0->chromadb) (4.9)\n",
            "Requirement already satisfied: filelock in /usr/local/lib/python3.11/dist-packages (from huggingface-hub<1.0,>=0.16.4->tokenizers>=0.13.2->chromadb) (3.18.0)\n",
            "Requirement already satisfied: fsspec>=2023.5.0 in /usr/local/lib/python3.11/dist-packages (from huggingface-hub<1.0,>=0.16.4->tokenizers>=0.13.2->chromadb) (2025.3.2)\n",
            "Requirement already satisfied: zipp>=3.20 in /usr/local/lib/python3.11/dist-packages (from importlib-metadata<8.7.0,>=6.0->opentelemetry-api>=1.2.0->chromadb) (3.21.0)\n",
            "Requirement already satisfied: mdurl~=0.1 in /usr/local/lib/python3.11/dist-packages (from markdown-it-py>=2.2.0->rich>=10.11.0->chromadb) (0.1.2)\n",
            "Requirement already satisfied: charset-normalizer<4,>=2 in /usr/local/lib/python3.11/dist-packages (from requests->kubernetes>=28.1.0->chromadb) (3.4.1)\n",
            "Requirement already satisfied: sniffio>=1.1 in /usr/local/lib/python3.11/dist-packages (from anyio->httpx>=0.27.0->chromadb) (1.3.1)\n",
            "Requirement already satisfied: humanfriendly>=9.1 in /usr/local/lib/python3.11/dist-packages (from coloredlogs->onnxruntime>=1.14.1->chromadb) (10.0)\n",
            "Requirement already satisfied: mpmath<1.4,>=1.1.0 in /usr/local/lib/python3.11/dist-packages (from sympy->onnxruntime>=1.14.1->chromadb) (1.3.0)\n",
            "Requirement already satisfied: pyasn1<0.7.0,>=0.6.1 in /usr/local/lib/python3.11/dist-packages (from pyasn1-modules>=0.2.1->google-auth>=1.0.1->kubernetes>=28.1.0->chromadb) (0.6.1)\n",
            "Requirement already satisfied: langgraph in /usr/local/lib/python3.11/dist-packages (0.3.27)\n",
            "Requirement already satisfied: langchain-core<0.4,>=0.1 in /usr/local/lib/python3.11/dist-packages (from langgraph) (0.3.51)\n",
            "Requirement already satisfied: langgraph-checkpoint<3.0.0,>=2.0.10 in /usr/local/lib/python3.11/dist-packages (from langgraph) (2.0.24)\n",
            "Requirement already satisfied: langgraph-prebuilt<0.2,>=0.1.1 in /usr/local/lib/python3.11/dist-packages (from langgraph) (0.1.8)\n",
            "Requirement already satisfied: langgraph-sdk<0.2.0,>=0.1.42 in /usr/local/lib/python3.11/dist-packages (from langgraph) (0.1.61)\n",
            "Requirement already satisfied: xxhash<4.0.0,>=3.5.0 in /usr/local/lib/python3.11/dist-packages (from langgraph) (3.5.0)\n",
            "Requirement already satisfied: langsmith<0.4,>=0.1.125 in /usr/local/lib/python3.11/dist-packages (from langchain-core<0.4,>=0.1->langgraph) (0.3.28)\n",
            "Requirement already satisfied: tenacity!=8.4.0,<10.0.0,>=8.1.0 in /usr/local/lib/python3.11/dist-packages (from langchain-core<0.4,>=0.1->langgraph) (9.1.2)\n",
            "Requirement already satisfied: jsonpatch<2.0,>=1.33 in /usr/local/lib/python3.11/dist-packages (from langchain-core<0.4,>=0.1->langgraph) (1.33)\n",
            "Requirement already satisfied: PyYAML>=5.3 in /usr/local/lib/python3.11/dist-packages (from langchain-core<0.4,>=0.1->langgraph) (6.0.2)\n",
            "Requirement already satisfied: packaging<25,>=23.2 in /usr/local/lib/python3.11/dist-packages (from langchain-core<0.4,>=0.1->langgraph) (24.2)\n",
            "Requirement already satisfied: typing-extensions>=4.7 in /usr/local/lib/python3.11/dist-packages (from langchain-core<0.4,>=0.1->langgraph) (4.13.1)\n",
            "Requirement already satisfied: pydantic<3.0.0,>=2.5.2 in /usr/local/lib/python3.11/dist-packages (from langchain-core<0.4,>=0.1->langgraph) (2.11.2)\n",
            "Requirement already satisfied: ormsgpack<2.0.0,>=1.8.0 in /usr/local/lib/python3.11/dist-packages (from langgraph-checkpoint<3.0.0,>=2.0.10->langgraph) (1.9.1)\n",
            "Requirement already satisfied: httpx>=0.25.2 in /usr/local/lib/python3.11/dist-packages (from langgraph-sdk<0.2.0,>=0.1.42->langgraph) (0.28.1)\n",
            "Requirement already satisfied: orjson>=3.10.1 in /usr/local/lib/python3.11/dist-packages (from langgraph-sdk<0.2.0,>=0.1.42->langgraph) (3.10.16)\n",
            "Requirement already satisfied: anyio in /usr/local/lib/python3.11/dist-packages (from httpx>=0.25.2->langgraph-sdk<0.2.0,>=0.1.42->langgraph) (4.9.0)\n",
            "Requirement already satisfied: certifi in /usr/local/lib/python3.11/dist-packages (from httpx>=0.25.2->langgraph-sdk<0.2.0,>=0.1.42->langgraph) (2025.1.31)\n",
            "Requirement already satisfied: httpcore==1.* in /usr/local/lib/python3.11/dist-packages (from httpx>=0.25.2->langgraph-sdk<0.2.0,>=0.1.42->langgraph) (1.0.7)\n",
            "Requirement already satisfied: idna in /usr/local/lib/python3.11/dist-packages (from httpx>=0.25.2->langgraph-sdk<0.2.0,>=0.1.42->langgraph) (3.10)\n",
            "Requirement already satisfied: h11<0.15,>=0.13 in /usr/local/lib/python3.11/dist-packages (from httpcore==1.*->httpx>=0.25.2->langgraph-sdk<0.2.0,>=0.1.42->langgraph) (0.14.0)\n",
            "Requirement already satisfied: jsonpointer>=1.9 in /usr/local/lib/python3.11/dist-packages (from jsonpatch<2.0,>=1.33->langchain-core<0.4,>=0.1->langgraph) (3.0.0)\n",
            "Requirement already satisfied: requests<3,>=2 in /usr/local/lib/python3.11/dist-packages (from langsmith<0.4,>=0.1.125->langchain-core<0.4,>=0.1->langgraph) (2.32.3)\n",
            "Requirement already satisfied: requests-toolbelt<2.0.0,>=1.0.0 in /usr/local/lib/python3.11/dist-packages (from langsmith<0.4,>=0.1.125->langchain-core<0.4,>=0.1->langgraph) (1.0.0)\n",
            "Requirement already satisfied: zstandard<0.24.0,>=0.23.0 in /usr/local/lib/python3.11/dist-packages (from langsmith<0.4,>=0.1.125->langchain-core<0.4,>=0.1->langgraph) (0.23.0)\n",
            "Requirement already satisfied: annotated-types>=0.6.0 in /usr/local/lib/python3.11/dist-packages (from pydantic<3.0.0,>=2.5.2->langchain-core<0.4,>=0.1->langgraph) (0.7.0)\n",
            "Requirement already satisfied: pydantic-core==2.33.1 in /usr/local/lib/python3.11/dist-packages (from pydantic<3.0.0,>=2.5.2->langchain-core<0.4,>=0.1->langgraph) (2.33.1)\n",
            "Requirement already satisfied: typing-inspection>=0.4.0 in /usr/local/lib/python3.11/dist-packages (from pydantic<3.0.0,>=2.5.2->langchain-core<0.4,>=0.1->langgraph) (0.4.0)\n",
            "Requirement already satisfied: charset-normalizer<4,>=2 in /usr/local/lib/python3.11/dist-packages (from requests<3,>=2->langsmith<0.4,>=0.1.125->langchain-core<0.4,>=0.1->langgraph) (3.4.1)\n",
            "Requirement already satisfied: urllib3<3,>=1.21.1 in /usr/local/lib/python3.11/dist-packages (from requests<3,>=2->langsmith<0.4,>=0.1.125->langchain-core<0.4,>=0.1->langgraph) (2.3.0)\n",
            "Requirement already satisfied: sniffio>=1.1 in /usr/local/lib/python3.11/dist-packages (from anyio->httpx>=0.25.2->langgraph-sdk<0.2.0,>=0.1.42->langgraph) (1.3.1)\n",
            "Reading package lists... Done\n",
            "Building dependency tree... Done\n",
            "Reading state information... Done\n",
            "Note, selecting 'libgraphviz-dev' instead of 'graphviz-dev'\n",
            "graphviz is already the newest version (2.42.2-6ubuntu0.1).\n",
            "libgraphviz-dev is already the newest version (2.42.2-6ubuntu0.1).\n",
            "0 upgraded, 0 newly installed, 0 to remove and 30 not upgraded.\n",
            "Requirement already satisfied: pygraphviz in /usr/local/lib/python3.11/dist-packages (1.14)\n"
          ]
        }
      ],
      "source": [
        "%pip install -U langsmith openai\n",
        "%pip install -qU langchain-text-splitters\n",
        "%pip install tiktoken\n",
        "%pip install -qU langchain_community pypdf\n",
        "%pip install langchain-openai\n",
        "%pip install chromadb\n",
        "%pip install -U langgraph\n",
        "!apt-get install -y graphviz graphviz-dev\n",
        "!pip install pygraphviz\n"
      ]
    },
    {
      "cell_type": "code",
      "source": [
        "from google.colab import drive\n",
        "drive.mount('/content/drive')"
      ],
      "metadata": {
        "colab": {
          "base_uri": "https://localhost:8080/"
        },
        "id": "k6NlsMnJ9WWd",
        "outputId": "a0ca9ec0-a27a-4701-a8b8-639768925591"
      },
      "id": "k6NlsMnJ9WWd",
      "execution_count": null,
      "outputs": [
        {
          "output_type": "stream",
          "name": "stdout",
          "text": [
            "Drive already mounted at /content/drive; to attempt to forcibly remount, call drive.mount(\"/content/drive\", force_remount=True).\n"
          ]
        }
      ]
    },
    {
      "cell_type": "code",
      "source": [
        "# add you keys to run the notebook\n",
        "\n",
        "import os\n",
        "\n",
        "os.environ[\"OPENAI_API_KEY\"] = \"\"\n",
        "os.environ[\"LANGSMITH_API_KEY\"] = \"\"\n",
        "os.environ[\"LANGCHAIN_TRACING_V2\"]=\"\"\n",
        "os.environ[\"LANGCHAIN_ENDPOINT\"]=\"\"\n",
        "os.environ[\"LANGCHAIN_PROJECT\"]=\"\"\n"
      ],
      "metadata": {
        "id": "yd6ar-SBkooA"
      },
      "id": "yd6ar-SBkooA",
      "execution_count": null,
      "outputs": []
    },
    {
      "cell_type": "markdown",
      "id": "646f08be",
      "metadata": {
        "id": "646f08be"
      },
      "source": [
        "Document Ingestion"
      ]
    },
    {
      "cell_type": "code",
      "execution_count": null,
      "id": "b0d1f248",
      "metadata": {
        "id": "b0d1f248"
      },
      "outputs": [],
      "source": [
        "from langchain_community.document_loaders import PyPDFLoader\n",
        "\n",
        "file_path = \"/content/drive/MyDrive/helpdesk_usecase/IT_helpdesk.pdf\"\n",
        "loader = PyPDFLoader(file_path)\n",
        "\n",
        "docs = loader.load()"
      ]
    },
    {
      "cell_type": "code",
      "execution_count": null,
      "id": "0af1ea95",
      "metadata": {
        "colab": {
          "base_uri": "https://localhost:8080/",
          "height": 163
        },
        "id": "0af1ea95",
        "outputId": "b72f6717-e619-4f95-c121-0427cc2613ab"
      },
      "outputs": [
        {
          "output_type": "execute_result",
          "data": {
            "text/plain": [
              "'o Enter your new password in both the \"New password\" and \"Confirm new \\npassword\" fields. \\no Click Next to finalize the reset. \\n6. Confirmation: \\no A confirmation message will indicate that your password has been successfully \\nreset. \\no You can now use your new password to log in to your account. \\n3.2 Best Practices for Password Security \\nTo maintain the security of your account, adhere to the following best practices: \\n• Create Strong Passwords: \\no Use a combination of uppercase and lowercase letters, numbers, and special \\ncharacters. \\no Avoid using easily guessable information such as birthdays, common words, or \\nsequences (e.g., \"password123\" or \"abcd1234\"). \\n• Unique Passwords: \\no Do not reuse passwords across multiple accounts. Each account should have a \\nunique password to prevent a compromise of one account leading to others being \\ncompromised. \\n• Regular Updates: \\no Change your password periodically, at least every 90 days, to enhance security. \\n• Use Multi-Factor Authentication (MFA): \\no Whenever possible, enable MFA for an additional layer of security. This typically \\ninvolves a second verification step, such as a code sent to your phone. \\n• Secure Storage: \\no Utilize a reputable password manager to securely store and manage your \\npasswords. Avoid writing them down or storing them in unsecured documents. \\n3.3 Troubleshooting and Support \\nIf you encounter any issues during the password reset process or have not enrolled in the SSPR \\nsystem, please contact the IT Help Desk for assistance: \\n• Email: helpdesk@company.com\\n  \\n• Phone: (123) 456-7890\\n  \\n• Hours of Operation: Monday to Friday, 8:00 AM to 6:00 PM \\nBy following these guidelines and utilizing the SSPR portal, you can efficiently manage your \\npassword resets and maintain the security of your account.'"
            ],
            "application/vnd.google.colaboratory.intrinsic+json": {
              "type": "string"
            }
          },
          "metadata": {},
          "execution_count": 7
        }
      ],
      "source": [
        "docs[1].page_content"
      ]
    },
    {
      "cell_type": "code",
      "execution_count": null,
      "id": "75b94d0f",
      "metadata": {
        "id": "75b94d0f"
      },
      "outputs": [],
      "source": [
        "from langchain_text_splitters import RecursiveCharacterTextSplitter\n",
        "\n",
        "text_splitter = RecursiveCharacterTextSplitter.from_tiktoken_encoder(\n",
        "    chunk_size=1000,\n",
        "    chunk_overlap=200,\n",
        ")"
      ]
    },
    {
      "cell_type": "code",
      "execution_count": null,
      "id": "2e33a8a9",
      "metadata": {
        "id": "2e33a8a9"
      },
      "outputs": [],
      "source": [
        "doc_splits =  text_splitter.split_documents(docs)"
      ]
    },
    {
      "cell_type": "code",
      "execution_count": null,
      "id": "87feb3a1",
      "metadata": {
        "colab": {
          "base_uri": "https://localhost:8080/"
        },
        "id": "87feb3a1",
        "outputId": "6794c0dc-c646-4264-b048-31e28c034832"
      },
      "outputs": [
        {
          "output_type": "execute_result",
          "data": {
            "text/plain": [
              "[Document(metadata={'producer': 'Microsoft® Word 2019', 'creator': 'Microsoft® Word 2019', 'creationdate': '2025-04-09T08:50:17+05:00', 'author': 'Hizafa Nadeem', 'moddate': '2025-04-09T08:50:17+05:00', 'source': '/content/drive/MyDrive/helpdesk_usecase/IT_helpdesk.pdf', 'total_pages': 13, 'page': 0, 'page_label': '1'}, page_content='IT Helpdesk Guidelines \\n \\nSection 3: Password Resets \\nMaintaining the security of your accounts is crucial. If you forget your password or need to reset \\nit, follow the steps below to securely regain access to your account. \\n3.1 Using the Self-Service Password Reset (SSPR) Portal \\nOur organization provides a Self-Service Password Reset (SSPR) portal that allows you to reset \\nyour password without contacting the IT Help Desk. \\nPrerequisites: \\n• Ensure you are enrolled in the SSPR system. Enrollment involves setting up \\nauthentication methods (e.g., phone number, email) that will be used to verify your \\nidentity during the password reset process. \\nSteps to Reset Your Password: \\n1. Access the SSPR Portal: \\no Open a web browser and navigate to the SSPR portal at https://aka.ms/sspr. \\n2. Enter Your User Information: \\no In the provided field, enter your full company email address. \\no Complete the CAPTCHA verification as prompted to confirm you are not a robot. \\no Click Next to proceed. \\n3. Select the Issue Type: \\no Choose \"I forgot my password\" from the available options. \\no Click Next. \\n4. Verify Your Identity: \\no Select your preferred verification method from the options you configured during \\nenrollment (e.g., text message, email). \\no Follow the on-screen instructions to complete the verification process. This may \\ninvolve entering a code sent to your phone or email. \\n5. Reset Your Password: \\no Once your identity is verified, you will be prompted to create a new password. \\nEnsure your new password meets the following complexity requirements: \\n▪ At least 8 characters in length. \\n▪ Includes at least one uppercase letter. \\n▪ Includes at least one lowercase letter. \\n▪ Includes at least one numeric digit. \\n▪ Includes at least one special character (e.g., !, @, #, $).'),\n",
              " Document(metadata={'producer': 'Microsoft® Word 2019', 'creator': 'Microsoft® Word 2019', 'creationdate': '2025-04-09T08:50:17+05:00', 'author': 'Hizafa Nadeem', 'moddate': '2025-04-09T08:50:17+05:00', 'source': '/content/drive/MyDrive/helpdesk_usecase/IT_helpdesk.pdf', 'total_pages': 13, 'page': 1, 'page_label': '2'}, page_content='o Enter your new password in both the \"New password\" and \"Confirm new \\npassword\" fields. \\no Click Next to finalize the reset. \\n6. Confirmation: \\no A confirmation message will indicate that your password has been successfully \\nreset. \\no You can now use your new password to log in to your account. \\n3.2 Best Practices for Password Security \\nTo maintain the security of your account, adhere to the following best practices: \\n• Create Strong Passwords: \\no Use a combination of uppercase and lowercase letters, numbers, and special \\ncharacters. \\no Avoid using easily guessable information such as birthdays, common words, or \\nsequences (e.g., \"password123\" or \"abcd1234\"). \\n• Unique Passwords: \\no Do not reuse passwords across multiple accounts. Each account should have a \\nunique password to prevent a compromise of one account leading to others being \\ncompromised. \\n• Regular Updates: \\no Change your password periodically, at least every 90 days, to enhance security. \\n• Use Multi-Factor Authentication (MFA): \\no Whenever possible, enable MFA for an additional layer of security. This typically \\ninvolves a second verification step, such as a code sent to your phone. \\n• Secure Storage: \\no Utilize a reputable password manager to securely store and manage your \\npasswords. Avoid writing them down or storing them in unsecured documents. \\n3.3 Troubleshooting and Support \\nIf you encounter any issues during the password reset process or have not enrolled in the SSPR \\nsystem, please contact the IT Help Desk for assistance: \\n• Email: helpdesk@company.com\\n  \\n• Phone: (123) 456-7890\\n  \\n• Hours of Operation: Monday to Friday, 8:00 AM to 6:00 PM \\nBy following these guidelines and utilizing the SSPR portal, you can efficiently manage your \\npassword resets and maintain the security of your account.'),\n",
              " Document(metadata={'producer': 'Microsoft® Word 2019', 'creator': 'Microsoft® Word 2019', 'creationdate': '2025-04-09T08:50:17+05:00', 'author': 'Hizafa Nadeem', 'moddate': '2025-04-09T08:50:17+05:00', 'source': '/content/drive/MyDrive/helpdesk_usecase/IT_helpdesk.pdf', 'total_pages': 13, 'page': 2, 'page_label': '3'}, page_content='Section 4: Software Installation and Uninstallation \\nThis section outlines the procedures for installing and uninstalling software on company-issued \\ndevices, ensuring compliance with organizational policies and maintaining system security. \\n4.1 Software Installation \\n*Note: To maintain system integrity and security, employees are permitted to install only pre-\\napproved software. All installations must adhere to the following procedures.* \\n4.1.1 Installing Software via Software Center \\nThe company provides a centralized platform, Software Center, for employees to access and \\ninstall authorized software. This approach ensures that all applications are vetted and comply \\nwith organizational standards. \\nSteps to Install Software Using Software Center: \\n1. Access Software Center: \\no Click on the Start menu or press the Windows key. \\no Type Software Center in the search bar. \\no Select the Software Center application from the search results. \\n2. Browse Available Applications: \\no Upon launching Software Center, navigate to the Applications tab to view a list \\nof software available for installation. \\n3. Select and Install the Desired Application: \\no Click on the desired software to view its details. \\no Click the Install button to initiate the installation. \\no Monitor the installation progress; once completed, the status will update to \\nInstalled. \\n*Note: If the required software is not listed in Software Center, proceed to section 4.1.2.* \\n4.1.2 Requesting Installation of Software Not Available in Software Center \\nIf the desired software is not available in Software Center, employees must obtain approval from \\nthe IT department before proceeding. \\nProcedure: \\n1. Submit a Software Installation Request: \\no Complete the Software Installation Request Form available on the company \\nintranet. \\no Provide detailed information, including: \\n▪ Software name and version. \\n▪ Purpose and justification for use.'),\n",
              " Document(metadata={'producer': 'Microsoft® Word 2019', 'creator': 'Microsoft® Word 2019', 'creationdate': '2025-04-09T08:50:17+05:00', 'author': 'Hizafa Nadeem', 'moddate': '2025-04-09T08:50:17+05:00', 'source': '/content/drive/MyDrive/helpdesk_usecase/IT_helpdesk.pdf', 'total_pages': 13, 'page': 3, 'page_label': '4'}, page_content='▪ Vendor or source of the software. \\n▪ Any licensing requirements or costs. \\n2. Await IT Department Approval: \\no The IT department will review the request to ensure compatibility with existing \\nsystems and compliance with security policies. \\no Approval or denial will be communicated within [specified timeframe]. \\n3. Installation by Authorized Personnel: \\no If approved, the IT department will coordinate the installation. \\no Employees are not permitted to install software from external sources \\nindependently. \\n*Note: Unauthorized installation of software is strictly prohibited and may result in disciplinary \\naction.* \\n4.2 Software Uninstallation \\nTo maintain system performance and security, unnecessary or outdated software should be \\nuninstalled following the procedures below. \\n4.2.1 Uninstalling Software via Software Center \\nFor applications installed through Software Center: \\n1. Access Software Center: \\no Open the Start menu. \\no Search for and select Software Center. \\n2. Navigate to Installed Applications: \\no Click on the Installation Status tab to view a list of installed applications. \\n3. Select and Uninstall the Application: \\no Click on the application you wish to uninstall. \\no Click the Uninstall button. \\no Confirm the uninstallation when prompted. \\n4.2.2 Uninstalling Software Not Listed in Software Center \\nFor applications not managed through Software Center: \\n1. Access Control Panel: \\no Press Windows + R, type appwiz.cpl, and press Enter to open Programs and \\nFeatures. \\n2. Locate the Application: \\no Scroll through the list to find the software to be uninstalled. \\n3. Uninstall the Application: \\no Right-click on the application and select Uninstall. \\no Follow the on-screen prompts to complete the process.'),\n",
              " Document(metadata={'producer': 'Microsoft® Word 2019', 'creator': 'Microsoft® Word 2019', 'creationdate': '2025-04-09T08:50:17+05:00', 'author': 'Hizafa Nadeem', 'moddate': '2025-04-09T08:50:17+05:00', 'source': '/content/drive/MyDrive/helpdesk_usecase/IT_helpdesk.pdf', 'total_pages': 13, 'page': 4, 'page_label': '5'}, page_content='*Note: If administrative privileges are required or if you encounter issues during uninstallation, \\ncontact the IT department for assistance.* \\n4.3 Compliance and Enforcement \\nAdherence to these procedures ensures the security and efficiency of our IT infrastructure. Non-\\ncompliance may lead to security vulnerabilities and will be addressed according to company \\ndisciplinary policies. \\nFor questions or further assistance, please contact the IT Help Desk at [contact information]. \\n \\nSection 5: Email Configuration \\nProper configuration of your email client ensures seamless communication and adherence to \\ncompany standards. This section provides detailed instructions for setting up your email account \\non various platforms. \\n5.1 Configuring Email on Microsoft Outlook \\nPrerequisites: \\n• Your full company email address and password. \\n• Incoming and outgoing mail server details provided by the IT department. \\nSteps: \\n1. Open Microsoft Outlook: \\no Launch the Outlook application on your device. \\n2. Add a New Account: \\no Navigate to File > Add Account. \\n3. Enter Email Details: \\no Select Manual setup or additional server types and click Next. \\no Choose POP or IMAP and click Next. \\no Fill in the following fields: \\n▪ Your Name: Enter your full name. \\n▪ Email Address: Enter your full company email address. \\n▪ Account Type: Select IMAP. \\n▪ Incoming Mail Server: Enter the IMAP server address provided by IT. \\n▪ Outgoing Mail Server (SMTP): Enter the SMTP server address provided \\nby IT. \\n▪ User Name: Enter your full company email address. \\n▪ Password: Enter your email password. \\n4. Test Account Settings: \\no Click Test Account Settings to verify connectivity.'),\n",
              " Document(metadata={'producer': 'Microsoft® Word 2019', 'creator': 'Microsoft® Word 2019', 'creationdate': '2025-04-09T08:50:17+05:00', 'author': 'Hizafa Nadeem', 'moddate': '2025-04-09T08:50:17+05:00', 'source': '/content/drive/MyDrive/helpdesk_usecase/IT_helpdesk.pdf', 'total_pages': 13, 'page': 5, 'page_label': '6'}, page_content='o If tests are successful, click Next and then Finish. \\n5.2 Configuring Email on Mobile Devices \\nFor iOS (iPhone/iPad): \\n1. Open Settings: \\no Tap the Settings app. \\n2. Add Account: \\no Scroll down and tap Mail > Accounts > Add Account. \\n3. Enter Email Details: \\no Select Other > Add Mail Account. \\no Fill in the following fields: \\n▪ Name: Enter your full name. \\n▪ Email: Enter your full company email address. \\n▪ Password: Enter your email password. \\n▪ Description: Enter a description (e.g., \"Work Email\"). \\no Tap Next. \\n4. Configure Servers: \\no Under Incoming Mail Server, enter: \\n▪ Host Name: Enter the IMAP server address provided by IT. \\n▪ User Name: Enter your full company email address. \\n▪ Password: Enter your email password. \\no Under Outgoing Mail Server, enter: \\n▪ Host Name: Enter the SMTP server address provided by IT. \\n▪ User Name: Enter your full company email address. \\n▪ Password: Enter your email password. \\n5. Save Settings: \\no Tap Save to complete the setup. \\nFor Android: \\n1. Open Settings: \\no Tap the Settings app. \\n2. Add Account: \\no Scroll down and tap Accounts > Add Account > Email. \\n3. Enter Email Details: \\no Enter your full company email address and tap Manual Setup. \\no Select IMAP. \\no Fill in the following fields: \\n▪ Username: Enter your full company email address. \\n▪ Password: Enter your email password. \\n▪ IMAP Server: Enter the IMAP server address provided by IT. \\n▪ Port: Enter the IMAP port number (typically 993 for SSL). \\n▪ Security Type: Select SSL/TLS. \\n▪ SMTP Server: Enter the SMTP server address provided by IT.'),\n",
              " Document(metadata={'producer': 'Microsoft® Word 2019', 'creator': 'Microsoft® Word 2019', 'creationdate': '2025-04-09T08:50:17+05:00', 'author': 'Hizafa Nadeem', 'moddate': '2025-04-09T08:50:17+05:00', 'source': '/content/drive/MyDrive/helpdesk_usecase/IT_helpdesk.pdf', 'total_pages': 13, 'page': 6, 'page_label': '7'}, page_content='▪ Port: Enter the SMTP port number (typically 465 or 587). \\n▪ Security Type: Select SSL/TLS. \\n▪ Require Sign-In: Ensure this is checked. \\n4. Complete Setup: \\no Tap Done to finish the configuration. \\n5.3 Configuring Email on Web Browsers \\nAccessing your email through a web browser ensures you can check your messages from any \\nlocation without configuring an email client. \\n1. Open Web Browser: \\no Launch your preferred web browser (e.g., Chrome, Firefox, Edge). \\n2. Navigate to Webmail: \\no Enter the webmail URL provided by the IT department (e.g., \\nhttps://webmail.company.com) in the address bar and press Enter. \\n3. Log In: \\no Enter your full company email address and password. \\no Click Log In to access your email account. \\n5.4 Best Practices for Email Security \\n• Use Strong Passwords: \\no Create complex passwords combining letters, numbers, and special characters. \\n \\nSection 6: Handling Internet Connectivity Issues \\nReliable internet access is essential for daily operations. If you experience connectivity \\nproblems, follow the steps below to diagnose and resolve common issues.\\n  \\n6.1 Preliminary Checks \\n1. Verify Network Connection: \\no Ensure your device is connected to the correct Wi-Fi network or via Ethernet.\\n  \\no Check for physical disconnections or loose cables.\\n  \\n2. Check Airplane Mode: \\no Confirm that Airplane Mode is turned off:\\n  \\n▪ On Windows: \\n▪ Navigate to Settings > Network & Internet > Airplane mode. \\n▪ Ensure Airplane mode is set to Off. \\n▪ On macOS: \\n▪ Click the Wi-Fi icon in the menu bar. \\n▪ Ensure Airplane Mode is not enabled. \\n3. Restart Your Device:'),\n",
              " Document(metadata={'producer': 'Microsoft® Word 2019', 'creator': 'Microsoft® Word 2019', 'creationdate': '2025-04-09T08:50:17+05:00', 'author': 'Hizafa Nadeem', 'moddate': '2025-04-09T08:50:17+05:00', 'source': '/content/drive/MyDrive/helpdesk_usecase/IT_helpdesk.pdf', 'total_pages': 13, 'page': 7, 'page_label': '8'}, page_content='o Rebooting can resolve temporary software glitches affecting connectivity.\\n  \\n6.2 Modem and Router Troubleshooting \\n1. Restart Modem and Router: \\no Unplug the power cords from both devices.\\n  \\no Wait at least 30 seconds.\\n  \\no Plug in the modem first; wait for it to fully boot up (indicated by stable lights).\\n  \\no Plug in the router; wait for it to fully boot up.\\n  \\no This process can resolve many connectivity issues by refreshing the connection to \\nyour Internet Service Provider (ISP). \\n cite\\n turn0search0\\n  \\n2. Check Modem and Router Lights: \\no Refer to the device manuals to interpret indicator lights.\\n  \\no Ensure all necessary lights are lit, indicating proper operation.\\n  \\n3. Inspect Cables and Connections: \\no Verify that all cables are securely connected and undamaged.\\n  \\no Replace any frayed or damaged cables.\\n  \\n6.3 Device-Specific Troubleshooting \\n1. For Windows Devices: \\no Release and Renew IP Address: \\n▪ Open Command Prompt as an administrator: \\n▪ Press Windows Key + X and select Command Prompt (Admin). \\n▪ Type ipconfig /release and press Enter. \\n▪ Type ipconfig /renew and press Enter. \\no Flush DNS Cache: \\n▪ In Command Prompt, type ipconfig /flushdns and press Enter. \\no Check IP Configuration: \\n▪ Ensure your device is set to obtain an IP address automatically: \\n▪ Go to Control Panel > Network and Sharing Center > Change \\nadapter settings. \\n▪ Right-click your active network adapter and select Properties. \\n▪ Double-click Internet Protocol Version 4 (TCP/IPv4). \\n▪ Ensure both options are set to Obtain an IP address \\nautomatically and Obtain DNS server address automatically. \\ncite\\n turn0search6\\n  \\n2. For macOS Devices: \\no Renew DHCP Lease: \\n▪ Go to System Preferences > Network. \\n▪ Select your active network connection. \\n▪ Click Advanced, then the TCP/IP tab. \\n▪ Click Renew DHCP Lease. \\no Verify DNS Settings: \\n▪ In the same Advanced window, go to the DNS tab. \\n▪ Ensure valid DNS servers are listed.'),\n",
              " Document(metadata={'producer': 'Microsoft® Word 2019', 'creator': 'Microsoft® Word 2019', 'creationdate': '2025-04-09T08:50:17+05:00', 'author': 'Hizafa Nadeem', 'moddate': '2025-04-09T08:50:17+05:00', 'source': '/content/drive/MyDrive/helpdesk_usecase/IT_helpdesk.pdf', 'total_pages': 13, 'page': 8, 'page_label': '9'}, page_content=\"6.4 Advanced Troubleshooting \\n1. Check for Interference: \\no Ensure your router is placed away from devices that can cause interference, such \\nas microwaves and cordless phones. \\no Keep the router elevated and centrally located for optimal coverage. \\n2. Update Network Drivers: \\no Ensure your network adapter drivers are up to date. \\no Visit the manufacturer's website to download the latest drivers. \\n3. Run Network Diagnostics: \\no Use built-in network diagnostic tools: \\n▪ On Windows: \\n▪ Right-click the network icon in the taskbar and select \\nTroubleshoot problems. \\n▪ On macOS: \\n▪ Use the Network Diagnostics tool when prompted. \\n4. Check for Malware: \\no Run a full system scan using your antivirus software to rule out malware affecting \\nconnectivity.\\n  \\n5. Bypass Router: \\no Connect your device directly to the modem using an Ethernet cable. \\no If the connection works, the router may be malfunctioning. \\n6.5 Contacting IT Support \\nIf you've completed the above steps and still experience connectivity issues: \\n• Gather Information: \\no Note any error messages received. \\no Document the steps you've already taken to troubleshoot. \\n• Contact IT Support: \\no Submit a detailed support ticket through the company's IT support portal. \\no Include all gathered information to assist in diagnosing the issue. \\nTimely reporting of persistent connectivity issues helps maintain productivity and allows IT \\nsupport to address potential network-wide concerns. \\n \\nSection 7: Resolving VPN Connectivity Issues \\nA Virtual Private Network (VPN) is essential for secure remote access to company resources. If \\nyou experience VPN connectivity issues, follow the detailed steps below to diagnose and resolve \\ncommon problems. \\n7.1 Preliminary Checks\"),\n",
              " Document(metadata={'producer': 'Microsoft® Word 2019', 'creator': 'Microsoft® Word 2019', 'creationdate': '2025-04-09T08:50:17+05:00', 'author': 'Hizafa Nadeem', 'moddate': '2025-04-09T08:50:17+05:00', 'source': '/content/drive/MyDrive/helpdesk_usecase/IT_helpdesk.pdf', 'total_pages': 13, 'page': 9, 'page_label': '10'}, page_content=\"1. Verify Internet Connection: \\no For Windows: \\n▪ Click on the Network icon in the taskbar. \\n▪ Ensure you are connected to the correct network. \\n▪ Open a web browser and navigate to a website to confirm internet access. \\no For macOS: \\n▪ Click on the Wi-Fi icon in the menu bar. \\n▪ Verify you are connected to the appropriate network. \\n▪ Open Safari or another browser to check internet connectivity. \\n2. Confirm VPN Credentials: \\no Ensure your username and password are correct. \\no Check for any recent password changes or account lockouts. \\n3. Restart VPN Application and Device: \\no Restart VPN Application: \\n▪ Close the VPN application completely. \\n▪ Reopen the application and attempt to connect again. \\no Restart Device: \\n▪ For Windows: \\n▪ Click on the Start menu. \\n▪ Select Restart and wait for the system to reboot. \\n▪ For macOS: \\n▪ Click on the Apple menu. \\n▪ Select Restart and confirm. \\n7.2 Advanced Troubleshooting Steps \\n1. Test VPN Server Reachability: \\no Ping Test: \\n▪ Open Command Prompt (Windows) or Terminal (macOS). \\n▪ Type ping [VPN server address] and press Enter. \\n▪ Replace [VPN server address] with your organization's VPN server \\naddress. \\n▪ If you receive replies, the server is reachable. If not, there may be a \\nnetwork issue. \\no Traceroute Test: \\n▪ In Command Prompt or Terminal, type tracert [VPN server \\naddress] (Windows) or traceroute [VPN server address] (macOS) \\nand press Enter. \\n▪ This will display the path your connection takes to reach the VPN server, \\nhelping identify where the connection fails. \\n2. Review VPN Client Logs: \\no For OpenVPN: \\n▪ Windows: \\n▪ Navigate to C:\\\\Users\\\\<Username>\\\\AppData\\\\Roaming\\\\OpenVPN \\nConnect\\\\log. \\n▪ Open ovpn.log with a text editor.\"),\n",
              " Document(metadata={'producer': 'Microsoft® Word 2019', 'creator': 'Microsoft® Word 2019', 'creationdate': '2025-04-09T08:50:17+05:00', 'author': 'Hizafa Nadeem', 'moddate': '2025-04-09T08:50:17+05:00', 'source': '/content/drive/MyDrive/helpdesk_usecase/IT_helpdesk.pdf', 'total_pages': 13, 'page': 10, 'page_label': '11'}, page_content=\"▪ macOS: \\n▪ Logs are typically stored in /var/log/syslog. \\n▪ Use the Console application to view logs. \\no For FortiClient: \\n▪ Windows: \\n▪ Logs are located in C:\\\\Program \\nFiles\\\\Fortinet\\\\FortiClient\\\\logs\\\\trace and \\nC:\\\\Users\\\\<Username>\\\\AppData\\\\Roaming\\\\FortiClient\\\\logs\\\\\\ntrace. \\n▪ Review logs for errors. \\no For Azure VPN Client: \\n▪ Click the arrows icon at the bottom-right corner of the Azure VPN Client \\nwindow to show the Status Logs. \\n▪ Check the logs for errors that might indicate the problem. \\no For Cisco AnyConnect: \\n▪ Navigate to Advanced Window > Statistics > VPN. \\n▪ Review the logs for any issues. \\no Error messages are typically displayed in red and can guide you to specific issues.   \\n3. Check Network Configuration: \\no Firewall and Antivirus Settings: \\n▪ Ensure that your firewall or antivirus software is not blocking the VPN \\nconnection. \\n▪ Temporarily disable them and attempt to connect. If successful, adjust the \\nsettings to allow VPN traffic. \\no Router Settings: \\n▪ Access your router's web interface: \\n▪ Open a web browser. \\n▪ Enter the router's IP address (commonly 192.168.1.1) in the \\naddress bar. \\n▪ Log in with your administrator credentials. \\n▪ Enable VPN Passthrough: \\n▪ Navigate to the VPN or Security section. \\n▪ Locate the VPN Passthrough settings. \\n▪ Ensure that the appropriate passthrough options (e.g., IPSec, PPTP, \\nL2TP) are enabled. \\n▪ Save changes and reboot the router if necessary. \\n▪ Note: Modern VPN protocols like OpenVPN, IKEv2, and WireGuard are \\ngenerally compatible with NAT and may not require VPN passthrough.  \\n4. Update VPN Client Software: \\no Ensure you are using the latest version of the VPN client: \\n▪ Visit the official website of your VPN provider. \\n▪ Download and install the latest version. \\n▪ Reattempt the VPN connection after updating. \\n5. Disable Conflicting Software: \\no Temporarily disable other VPN clients or security software that might interfere \\nwith the connection.\"),\n",
              " Document(metadata={'producer': 'Microsoft® Word 2019', 'creator': 'Microsoft® Word 2019', 'creationdate': '2025-04-09T08:50:17+05:00', 'author': 'Hizafa Nadeem', 'moddate': '2025-04-09T08:50:17+05:00', 'source': '/content/drive/MyDrive/helpdesk_usecase/IT_helpdesk.pdf', 'total_pages': 13, 'page': 11, 'page_label': '12'}, page_content='Section 10: Accessing IT Support Services for Complex Data Recovery Issues \\nIn the event of complex data loss scenarios, it is imperative to engage with IT support services \\nequipped with specialized expertise and tools to recover critical information. This section \\nprovides detailed instructions on how to access our IT support services for complex data \\nrecovery issues.Secure Data Recovery+1Downtown Computers+1 \\n10.1 Recognizing the Need for Professional Data Recovery Services \\nComplex data recovery situations may include: \\n• Physical damage to storage devices (e.g., hard drives with mechanical failures). \\n• Logical errors resulting in inaccessible or corrupted data. \\n• Data loss due to malware attacks or system crashes. \\n• Failure of RAID arrays or other advanced storage configurations. \\nIf you encounter such issues, it is advisable to seek professional assistance promptly to maximize \\nthe chances of successful data recovery. \\n10.2 Initiating Contact with IT Support for Data Recovery Assistance \\n1. Gather Essential Information: \\no Document the nature of the data loss, including any error messages or unusual \\nsystem behaviors observed. \\no Note the make, model, and specifications of the affected storage device. \\no Compile a list of critical files or data types that require recovery. \\n2. Contact IT Support: \\no Phone Support: \\n▪ Call our dedicated IT support hotline at [Insert Phone Number]. \\n▪ Provide the gathered information to the support representative. \\n▪ Follow any preliminary troubleshooting steps suggested. \\no Email Support: \\n▪ Send an email to [Insert Support Email Address] with the subject line \\n\"Data Recovery Assistance Request.\" \\n▪ Include all relevant information and a detailed description of the issue. \\n▪ Attach any error logs or screenshots, if available. \\no Online Support Portal: \\n▪ Visit our IT support portal at [Insert URL]. \\n▪ Complete the data recovery assistance request form with accurate details. \\n▪ Submit the form and monitor your email for updates. \\n3. Schedule an Assessment: \\no Our IT support team will contact you to schedule a convenient time for an in-\\ndepth assessment of the data loss situation.Secure Data Recovery \\no During the assessment, a technician will:'),\n",
              " Document(metadata={'producer': 'Microsoft® Word 2019', 'creator': 'Microsoft® Word 2019', 'creationdate': '2025-04-09T08:50:17+05:00', 'author': 'Hizafa Nadeem', 'moddate': '2025-04-09T08:50:17+05:00', 'source': '/content/drive/MyDrive/helpdesk_usecase/IT_helpdesk.pdf', 'total_pages': 13, 'page': 12, 'page_label': '13'}, page_content='▪ Evaluate the extent of data loss and identify potential recovery methods. \\n▪ Discuss the feasibility of recovery and provide an estimated timeline. \\n▪ Offer a cost estimate for the data recovery service')]"
            ]
          },
          "metadata": {},
          "execution_count": 10
        }
      ],
      "source": [
        "doc_splits"
      ]
    },
    {
      "cell_type": "code",
      "execution_count": null,
      "id": "c7979399",
      "metadata": {
        "colab": {
          "base_uri": "https://localhost:8080/",
          "height": 163
        },
        "id": "c7979399",
        "outputId": "f6586798-e7fa-49e3-9fe4-eb08099da742"
      },
      "outputs": [
        {
          "output_type": "execute_result",
          "data": {
            "text/plain": [
              "'o Enter your new password in both the \"New password\" and \"Confirm new \\npassword\" fields. \\no Click Next to finalize the reset. \\n6. Confirmation: \\no A confirmation message will indicate that your password has been successfully \\nreset. \\no You can now use your new password to log in to your account. \\n3.2 Best Practices for Password Security \\nTo maintain the security of your account, adhere to the following best practices: \\n• Create Strong Passwords: \\no Use a combination of uppercase and lowercase letters, numbers, and special \\ncharacters. \\no Avoid using easily guessable information such as birthdays, common words, or \\nsequences (e.g., \"password123\" or \"abcd1234\"). \\n• Unique Passwords: \\no Do not reuse passwords across multiple accounts. Each account should have a \\nunique password to prevent a compromise of one account leading to others being \\ncompromised. \\n• Regular Updates: \\no Change your password periodically, at least every 90 days, to enhance security. \\n• Use Multi-Factor Authentication (MFA): \\no Whenever possible, enable MFA for an additional layer of security. This typically \\ninvolves a second verification step, such as a code sent to your phone. \\n• Secure Storage: \\no Utilize a reputable password manager to securely store and manage your \\npasswords. Avoid writing them down or storing them in unsecured documents. \\n3.3 Troubleshooting and Support \\nIf you encounter any issues during the password reset process or have not enrolled in the SSPR \\nsystem, please contact the IT Help Desk for assistance: \\n• Email: helpdesk@company.com\\n  \\n• Phone: (123) 456-7890\\n  \\n• Hours of Operation: Monday to Friday, 8:00 AM to 6:00 PM \\nBy following these guidelines and utilizing the SSPR portal, you can efficiently manage your \\npassword resets and maintain the security of your account.'"
            ],
            "application/vnd.google.colaboratory.intrinsic+json": {
              "type": "string"
            }
          },
          "metadata": {},
          "execution_count": 11
        }
      ],
      "source": [
        "doc_splits[1].page_content"
      ]
    },
    {
      "cell_type": "code",
      "execution_count": null,
      "id": "2f706b1e",
      "metadata": {
        "colab": {
          "base_uri": "https://localhost:8080/"
        },
        "id": "2f706b1e",
        "outputId": "f57b14ac-28ce-4eec-f463-b23f61938572"
      },
      "outputs": [
        {
          "output_type": "stream",
          "name": "stderr",
          "text": [
            "<ipython-input-12-2296f2d5c43d>:13: LangChainDeprecationWarning: Since Chroma 0.4.x the manual persistence method is no longer supported as docs are automatically persisted.\n",
            "  vectorstore.persist()\n"
          ]
        }
      ],
      "source": [
        "from langchain_openai import OpenAIEmbeddings\n",
        "# from langchain_community.vectorstores import Chroma\n",
        "from langchain.vectorstores import Chroma\n",
        "\n",
        "\n",
        "vectorstore = Chroma.from_documents(\n",
        "    documents=doc_splits,\n",
        "    collection_name=\"guidelines\",\n",
        "    embedding = OpenAIEmbeddings(),\n",
        "    persist_directory = \"/content/drive/MyDrive/helpdesk_usecase/knowledgebase\",\n",
        "\n",
        ")\n",
        "vectorstore.persist()"
      ]
    },
    {
      "cell_type": "code",
      "source": [
        "retriever = vectorstore.as_retriever()"
      ],
      "metadata": {
        "id": "vmAvRRCICenR"
      },
      "id": "vmAvRRCICenR",
      "execution_count": null,
      "outputs": []
    },
    {
      "cell_type": "code",
      "execution_count": null,
      "id": "b4662bee",
      "metadata": {
        "colab": {
          "base_uri": "https://localhost:8080/"
        },
        "id": "b4662bee",
        "outputId": "24d6b388-d572-4962-a829-b578e2e53471"
      },
      "outputs": [
        {
          "output_type": "stream",
          "name": "stderr",
          "text": [
            "<ipython-input-14-abceff2e3443>:6: LangChainDeprecationWarning: The class `Chroma` was deprecated in LangChain 0.2.9 and will be removed in 1.0. An updated version of the class exists in the :class:`~langchain-chroma package and should be used instead. To use it run `pip install -U :class:`~langchain-chroma` and import as `from :class:`~langchain_chroma import Chroma``.\n",
            "  vec_db = Chroma(persist_directory=r\"/content/drive/MyDrive/helpdesk_usecase/knowledgebase\",\n"
          ]
        }
      ],
      "source": [
        "from langchain.vectorstores import Chroma\n",
        "from langchain_openai import OpenAIEmbeddings\n",
        "\n",
        "embedding = OpenAIEmbeddings()\n",
        "\n",
        "vec_db = Chroma(persist_directory=r\"/content/drive/MyDrive/helpdesk_usecase/knowledgebase\",\n",
        "                embedding_function=embedding, collection_name=\"guidelines\")"
      ]
    },
    {
      "cell_type": "code",
      "source": [
        "retriever = vec_db.as_retriever(search_kwargs = {'k':10})"
      ],
      "metadata": {
        "id": "gdZ8XQGlltfX"
      },
      "id": "gdZ8XQGlltfX",
      "execution_count": null,
      "outputs": []
    },
    {
      "cell_type": "markdown",
      "id": "5b4186ad",
      "metadata": {
        "id": "5b4186ad"
      },
      "source": [
        "## Multi-Agent workflow - LANGGRAPH"
      ]
    },
    {
      "cell_type": "code",
      "execution_count": null,
      "id": "7430b0b8",
      "metadata": {
        "id": "7430b0b8"
      },
      "outputs": [],
      "source": [
        "from langchain.tools.retriever import create_retriever_tool\n",
        "\n",
        "retriever_tool = create_retriever_tool(\n",
        "    retriever,\n",
        "    \"retrieve_IT_issues_resolution_instructions\",\n",
        "    \"Search and return guidelines to resolve the IT user request.\",\n",
        ")\n",
        "\n",
        "resolution_tool = [retriever_tool]"
      ]
    },
    {
      "cell_type": "code",
      "source": [
        "from typing import Annotated, Sequence, TypedDict\n",
        "\n",
        "from langchain_core.messages import BaseMessage\n",
        "\n",
        "from langgraph.graph.message import add_messages\n",
        "\n",
        "\n",
        "class AgentState(TypedDict):\n",
        "    messages: Annotated[Sequence[BaseMessage], add_messages]"
      ],
      "metadata": {
        "id": "xsREohQFJem_"
      },
      "id": "xsREohQFJem_",
      "execution_count": null,
      "outputs": []
    },
    {
      "cell_type": "code",
      "source": [
        "from typing import Annotated, Literal, Sequence, TypedDict\n",
        "\n",
        "from langchain import hub\n",
        "from langchain_core.messages import BaseMessage, HumanMessage\n",
        "from langchain_core.output_parsers import StrOutputParser\n",
        "from langchain_core.pydantic_v1 import BaseModel, Field\n",
        "from langchain_openai import ChatOpenAI\n",
        "from langchain_core.prompts import ChatPromptTemplate\n",
        "\n",
        "\n",
        "def query_transformation(state):\n",
        "\n",
        "  messages = state[\"messages\"]\n",
        "  query = messages[-1].content\n",
        "  llm = ChatOpenAI(temperature=0, streaming=True, model=\"gpt-4o\")\n",
        "\n",
        "  prompt = ChatPromptTemplate.from_messages([\n",
        "    (\"system\",\n",
        "     \"\"\" You are an expert in interpreting and converting user queries into precise IT support requests,\n",
        "     your task is to analyze the given user query and generate a clear, concise, and actionable IT support request optimized\n",
        "     to be interpretted by IT Support Expert.​\n",
        "\n",
        "        Instructions:\n",
        "        - Retain all technical terms, acronyms, and specific details provided by the user without attempting to rephrase them.​\n",
        "        - Focus on extracting the core issue from the user's query to formulate a request that directly addresses their concern.​\n",
        "\n",
        "     \"\"\"),\n",
        "    (\"human\", \"{query}\")\n",
        "  ])\n",
        "\n",
        "  chain = prompt | llm | StrOutputParser()\n",
        "  transformed_query = chain.invoke({\"query\": query})\n",
        "\n",
        "\n",
        "\n",
        "  return {\"messages\": [transformed_query]}\n"
      ],
      "metadata": {
        "id": "Md9PIXufPECc"
      },
      "id": "Md9PIXufPECc",
      "execution_count": null,
      "outputs": []
    },
    {
      "cell_type": "code",
      "source": [
        "from langchain_core.prompts import PromptTemplate\n",
        "\n",
        "class classify(BaseModel):\n",
        "        \"\"\"Classification of complex queries.\"\"\"\n",
        "        resolvable: str = Field(description=\"Complexity Score 'yes' or 'no'\")\n",
        "\n",
        "def router(state)-> Literal[\"resolution_agent\", \"esclation_agent\"]:\n",
        "\n",
        "    prompt = ChatPromptTemplate.from_messages([\n",
        "    (\"system\",\n",
        "     \"\"\"\n",
        "      You are an expert in IT support request classification, assess the complexity and severity of each user-submitted IT request.\n",
        "      Utilize the provided criteria to determine whether the issue can be resolved by the user through available resources or necessitates escalation to IT support.\n",
        "\n",
        "      ##Output Instructions##:\n",
        "      - return \"yes\" if the IT request is user-resolvable else return \"no\" if escalation is required\n",
        "\n",
        "\n",
        "      **Criteria for Self-Service Resolution (User-Resolved)**:\n",
        "      Users can address certain issues independently by utilizing available resources such as knowledge bases, FAQs, or user manuals. These typically include:​\n",
        "      - Password Resets: Users can follow predefined steps to reset their passwords.​\n",
        "      - Software Installations: Guided instructions for installing approved software applications.​\n",
        "      - Basic Troubleshooting: Steps for resolving common issues like printer connectivity problems or setting up email accounts.​\n",
        "\n",
        "      **Criteria for IT Support Intervention and Escalation:\n",
        "      When issues surpass the user's ability to resolve them, IT support intervention is necessary. Criteria for escalating a request to IT support include:​\n",
        "      - Technical Complexity: Problems requiring specialized technical skills beyond the user's knowledge, such as network configuration issues or hardware malfunctions.​\n",
        "      - High Impact on Business Operations: Incidents causing significant disruption to business processes, affecting multiple users or critical systems.​\n",
        "      - Data Loss or Security Concerns: Situations involving potential data loss, security breaches, or compliance issues.​\n",
        "      - Repeated Incidents: Persistent issues that recur despite previous troubleshooting efforts.​\n",
        "      - Service Level Agreement (SLA) Breach: When an incident is approaching or has surpassed the agreed-upon response or resolution timeframes.\n",
        "\n",
        "     \"\"\"),\n",
        "    (\"human\", \"{query}\")\n",
        "  ])\n",
        "\n",
        "    model = ChatOpenAI(temperature=0, model=\"gpt-4o\", streaming=True)\n",
        "    llm_with_tool = model.with_structured_output(classify)\n",
        "    chain = prompt | llm_with_tool\n",
        "\n",
        "    messages = state[\"messages\"]\n",
        "    query = messages[1].content\n",
        "\n",
        "\n",
        "    result = chain.invoke({\"query\": query})\n",
        "\n",
        "    classification = result.resolvable\n",
        "\n",
        "\n",
        "    if classification == \"yes\":\n",
        "        return \"resolution_agent\"\n",
        "    else:\n",
        "        return \"esclation_agent\"\n",
        "\n"
      ],
      "metadata": {
        "id": "hVRczyKH3VkS"
      },
      "id": "hVRczyKH3VkS",
      "execution_count": null,
      "outputs": []
    },
    {
      "cell_type": "code",
      "source": [
        "def resolution_agent(state):\n",
        "    \"\"\"\n",
        "    Invokes the agent model to generate a response based on the current state. Given\n",
        "    the question, it will decide to retrieve using the retriever tool, or simply end.\"\"\"\n",
        "\n",
        "    messages = state[\"messages\"]\n",
        "    model = ChatOpenAI(temperature=0, streaming=True, model=\"gpt-4o\")\n",
        "    model = model.bind_tools(resolution_tool)\n",
        "    response = model.invoke(messages)\n",
        "\n",
        "    return {\"messages\": [response]}"
      ],
      "metadata": {
        "id": "VEXyegYsxUUf"
      },
      "id": "VEXyegYsxUUf",
      "execution_count": null,
      "outputs": []
    },
    {
      "cell_type": "code",
      "source": [
        "def check_resolvable(state)-> Literal[\"resolution_agent\", \"esclation_agent\"]:\n",
        "\n",
        "\n",
        "  prompt = ChatPromptTemplate.from_messages([\n",
        "    (\"system\",\n",
        "     \"\"\"You are an IT support expert tasked with evaluating whether a user's request can be resolved using the provided resolution response.\n",
        "\n",
        "    Instructions:\n",
        "    1. Review the user's query and the corresponding resolution response.\n",
        "    2. Determine if the resolution response contains sufficient and clear instructions for the user to resolve the issue independently.\n",
        "    3. If the resolution is adequate for self-resolution, return \"yes\".\n",
        "    4. If the resolution lacks sufficient detail or is too complex for self-resolution, return \"no\".\n",
        "\n",
        "    Please provide your assessment as either \"yes\" or \"no\" without additional commentary.\n",
        "        \"\"\"),\n",
        "        (\"human\", \"Query: {query}\\n\\nResolution Response: {resolution_response}\")\n",
        "  ])\n",
        "\n",
        "\n",
        "  model = ChatOpenAI(temperature=0, model=\"gpt-4o\", streaming=True)\n",
        "  llm_with_tool = model.with_structured_output(classify)\n",
        "  chain = prompt | llm_with_tool\n",
        "\n",
        "  query = state[\"messages\"][1].content\n",
        "  resolution_response = state[\"messages\"][-1].content\n",
        "\n",
        "\n",
        "  result = chain.invoke({\"query\": query, \"resolution_response\": resolution_response})\n",
        "\n",
        "  classification = result.resolvable\n",
        "\n",
        "  if classification == \"yes\":\n",
        "      return \"resolution_agent\"\n",
        "  else:\n",
        "      return \"esclation_agent\""
      ],
      "metadata": {
        "id": "IYrZEP-Ug8AL"
      },
      "id": "IYrZEP-Ug8AL",
      "execution_count": null,
      "outputs": []
    },
    {
      "cell_type": "code",
      "source": [
        "def reranker(state):\n",
        "\n",
        "  query = state[\"messages\"][1].content\n",
        "  documents = state[\"messages\"][-1].content\n",
        "\n",
        "  llm = ChatOpenAI(temperature=0, streaming=True, model=\"gpt-4o\")\n",
        "\n",
        "  prompt = ChatPromptTemplate.from_messages([\n",
        "    (\"system\",\n",
        "     \"\"\" You are an expert in information retrieval.\n",
        "     Your task is to evaluate the relevance of each document provided below in relation to the user's query.\n",
        "     After assessing all documents, identify and list the top 5 most relevant documents in descending order of relevance.\n",
        "\n",
        "\n",
        "     \"\"\"),\n",
        "    (\"human\", \"Query: {query} \\n\\n Documents: {documents}\")\n",
        "  ])\n",
        "\n",
        "  chain = prompt | llm | StrOutputParser()\n",
        "  reranked_documents = chain.invoke({\"query\": query, \"documents\":documents })\n",
        "\n",
        "  return {\"messages\": [reranked_documents]}\n"
      ],
      "metadata": {
        "id": "-cKGDWkvQA4D"
      },
      "id": "-cKGDWkvQA4D",
      "execution_count": null,
      "outputs": []
    },
    {
      "cell_type": "code",
      "source": [
        "def generate(state):\n",
        "    \"\"\"\n",
        "    Generate a resolution using context\n",
        "\n",
        "    Args:\n",
        "        state (messages): The current state\n",
        "\n",
        "    Returns:\n",
        "         dict: The updated state with re-phrased question\n",
        "    \"\"\"\n",
        "    messages = state[\"messages\"]\n",
        "    query = messages[1].content # transformed query\n",
        "    last_message = messages[-1]\n",
        "\n",
        "    docs = last_message.content\n",
        "\n",
        "    prompt = ChatPromptTemplate.from_messages([\n",
        "    (\"system\",\n",
        "     \"\"\" You are an IT request Resolution assistant. Use the following pieces of retrieved context to answer the user query. If you don't know the answer, just say that you don't know.\n",
        "\n",
        "        Instructions:\n",
        "        - Devise a clear resolution for the IT request.\n",
        "        - Detail all the steps clearly for resolving the user query.\n",
        "        - Generate a well-formulated and structured answer for the user request.\n",
        "        - Donot add extra information in the query, be specific.\n",
        "     \"\"\"),\n",
        "\n",
        "    (\"human\", \"User Query: {query} \\n Context:{context}\")\n",
        "    ])\n",
        "\n",
        "    # LLM\n",
        "    llm = ChatOpenAI(model_name=\"gpt-4o\", temperature=0, streaming=True)\n",
        "\n",
        "    # Post-processing\n",
        "    def format_docs(docs):\n",
        "        return \"\\n\\n\".join(doc.page_content for doc in docs)\n",
        "\n",
        "    # Chain\n",
        "    rag_chain = prompt | llm | StrOutputParser()\n",
        "\n",
        "    # Run\n",
        "    response = rag_chain.invoke({\"context\": docs, \"query\": query})\n",
        "    return {\"messages\": [response]}\n"
      ],
      "metadata": {
        "id": "D5QlhzwAN7lo"
      },
      "id": "D5QlhzwAN7lo",
      "execution_count": null,
      "outputs": []
    },
    {
      "cell_type": "code",
      "source": [
        "from langgraph.types import Command, interrupt\n",
        "\n",
        "# human in the loop\n",
        "def esclation_agent(state):\n",
        "\n",
        "    form = \"\"\"\n",
        "      **IT Request Form:**\n",
        "\n",
        "      Incident Description\n",
        "      [Provide a brief overview of the problem encountered]​\n",
        "\n",
        "      System Information\n",
        "      [Device Type, Operating System, Software, Hardware]\n",
        "\n",
        "      Troubleshooting Steps Taken\n",
        "      [List any troubleshooting steps you've already tried]​\n",
        "\n",
        "    \"\"\"\n",
        "    filled_form = interrupt(form)\n",
        "\n",
        "    return {\"messages\": [filled_form]}"
      ],
      "metadata": {
        "id": "l9DXtymbSgg9"
      },
      "id": "l9DXtymbSgg9",
      "execution_count": null,
      "outputs": []
    },
    {
      "cell_type": "code",
      "source": [
        "from langchain.chains import create_extraction_chain\n",
        "import json\n",
        "\n",
        "class Request_Details(BaseModel):\n",
        "        IncidentDescription: str = Field(description=\"Description of Incident\")\n",
        "        SystemInformation: str = Field(description = \"Information of the System\")\n",
        "        TroubleShootingStesps: str = Field(description=\"Steps taken for Intial Resolution\")\n",
        "\n",
        "\n",
        "def extract_additional_details(state):\n",
        "  form = state[\"messages\"][-1].content\n",
        "\n",
        "  llm = ChatOpenAI(model=\"gpt-4o\", temperature = 0.5)\n",
        "\n",
        "  model_with_structure = llm.with_structured_output(Request_Details)\n",
        "\n",
        "  details = model_with_structure.invoke(form)\n",
        "\n",
        "  return {\"messages\", [\"Esclation Report \\n\\n\" + details.dict()]}\n"
      ],
      "metadata": {
        "id": "gtgWS1PsgwmB"
      },
      "id": "gtgWS1PsgwmB",
      "execution_count": null,
      "outputs": []
    },
    {
      "cell_type": "code",
      "source": [
        "\n",
        "class Request_Details(BaseModel):\n",
        "        Esclation_Level: str = Field(description= \"Level of esclation\")\n",
        "        Esclation_Justification: str = Field(description = \"Justification of Esclation\")\n",
        "        IncidentDescription: str = Field(description=\"Description of Incident\")\n",
        "        SystemInformation: str = Field(description = \"Information of the System\")\n",
        "        TroubleShootingStesps: str = Field(description=\"Steps taken for Intial Resolution\")\n",
        "\n",
        "def generate_structured_summary(state):\n",
        "\n",
        "\n",
        "  query = state[\"messages\"][1].content\n",
        "  details = state[\"messages\"][-1].content\n",
        "\n",
        "  prompt = ChatPromptTemplate.from_messages([\n",
        "    (\"system\",\n",
        "     \"\"\" You are an IT Support escalation reporting assistant. Your task is to generate a structured esclation summary for the User IT Request.\n",
        "\n",
        "      Instructions:\n",
        "      - Summary must include the information from the user query and Additional user request.\n",
        "      - Follow the template to generate a structured esclation summary.\n",
        "      - Create a formal IT escalation summary to be submitted to IT Support for further resolution.\n",
        "\n",
        "      **Summary template:**\n",
        "        - Esclation Level:\n",
        "        - Reason for Esclation:\n",
        "        - System Information:\n",
        "        - Trouble Shooting Steps:\n",
        "\n",
        "     \"\"\"),\n",
        "    (\"human\", \"Initial User Query: {query} Additional User Request Details: {request}\")\n",
        "  ])\n",
        "\n",
        "\n",
        "  model = ChatOpenAI(temperature=0.5, model=\"gpt-4o\", streaming=True)\n",
        "  # chain = prompt | model\n",
        "\n",
        "  model_with_structure = model.with_structured_output(Request_Details)\n",
        "\n",
        "  summary = model_with_structure.invoke(query + \"n\\n\" + details)\n",
        "\n",
        "  summary = \"Esclation Report\\n\\n\" + str(summary)\n",
        "\n",
        "  return {\"messages\": [summary]}\n"
      ],
      "metadata": {
        "id": "plTTLEr_Vhtu"
      },
      "id": "plTTLEr_Vhtu",
      "execution_count": null,
      "outputs": []
    },
    {
      "cell_type": "markdown",
      "source": [
        "Create Graph"
      ],
      "metadata": {
        "id": "bPuOyuStKSlE"
      },
      "id": "bPuOyuStKSlE"
    },
    {
      "cell_type": "code",
      "source": [
        "from langgraph.graph import END, StateGraph, START\n",
        "from langgraph.prebuilt import ToolNode\n",
        "from langgraph.prebuilt import tools_condition\n",
        "from langgraph.checkpoint.memory import MemorySaver\n",
        "\n",
        "\n",
        "memory = MemorySaver()\n",
        "\n",
        "\n",
        "workflow = StateGraph(AgentState)\n",
        "\n",
        "#Nodes\n",
        "workflow.add_node(\"query_transformation\", query_transformation)\n",
        "workflow.add_node(\"resolution_agent\", resolution_agent)\n",
        "retrieve = ToolNode([retriever_tool])\n",
        "workflow.add_node(\"retrieve\", retrieve)\n",
        "workflow.add_node(\"reranker\", reranker)\n",
        "workflow.add_node(\"generate\", generate)\n",
        "workflow.add_node(\"esclation_agent\", esclation_agent)\n",
        "workflow.add_node(\"generate_structured_summary\", generate_structured_summary)\n",
        "\n",
        "\n",
        "workflow.add_edge(START, \"query_transformation\")\n",
        "\n",
        "# Conditional Edge for routing queries to agent\n",
        "workflow.add_conditional_edges(\n",
        "    \"query_transformation\",\n",
        "    router,\n",
        ")\n",
        "\n",
        "# Conditional Edge for resolution retrieval\n",
        "workflow.add_conditional_edges(\n",
        "    \"resolution_agent\",\n",
        "    tools_condition,\n",
        "    {\n",
        "        \"tools\": \"retrieve\",\n",
        "        END: END,\n",
        "    },\n",
        ")\n",
        "\n",
        "# Conditional Edge for esclating queries to esclation agent if not resolvable\n",
        "workflow.add_conditional_edges(\n",
        "    \"generate\",\n",
        "    check_resolvable,\n",
        ")\n",
        "\n",
        "workflow.add_edge(\"retrieve\",\"reranker\")\n",
        "workflow.add_edge(\"reranker\",\"generate\")\n",
        "workflow.add_edge(\"esclation_agent\",\"generate_structured_summary\")\n",
        "\n",
        "\n",
        "# workflow.add_edge(\"generate\", \"resolution_agent\")\n",
        "workflow.add_edge(\"generate_structured_summary\", \"esclation_agent\")\n",
        "workflow.add_edge(\"esclation_agent\", END)\n",
        "workflow.add_edge(\"resolution_agent\",END)\n",
        "\n",
        "\n",
        "graph = workflow.compile(checkpointer=memory)\n"
      ],
      "metadata": {
        "id": "rl-bDYfeKCtv"
      },
      "id": "rl-bDYfeKCtv",
      "execution_count": null,
      "outputs": []
    },
    {
      "cell_type": "markdown",
      "source": [
        "**Resolution without Esclation Case**"
      ],
      "metadata": {
        "id": "MVzZqBvpPvCZ"
      },
      "id": "MVzZqBvpPvCZ"
    },
    {
      "cell_type": "code",
      "source": [
        "\n",
        "config = {\"configurable\": {\"thread_id\": \"1\"}}\n",
        "\n",
        "for s in graph.stream(\n",
        "\n",
        "    {\"messages\": [HumanMessage(\n",
        "        content=\"How to reset my password\")]},\n",
        "    config\n",
        "):\n",
        "    if \"__end__\" not in s:\n",
        "        print(s)\n",
        "        print(\"-----\")"
      ],
      "metadata": {
        "colab": {
          "base_uri": "https://localhost:8080/"
        },
        "id": "cqErFGyCDMID",
        "outputId": "5a751405-e723-48cb-c08e-ddfa20e65e8c"
      },
      "id": "cqErFGyCDMID",
      "execution_count": null,
      "outputs": [
        {
          "output_type": "stream",
          "name": "stderr",
          "text": [
            "/usr/local/lib/python3.11/dist-packages/langchain_openai/chat_models/base.py:1624: UserWarning: Received a Pydantic BaseModel V1 schema. This is not supported by method=\"json_schema\". Please use method=\"function_calling\" or specify schema via JSON Schema or Pydantic V2 BaseModel. Overriding to method=\"function_calling\".\n",
            "  warnings.warn(\n"
          ]
        },
        {
          "output_type": "stream",
          "name": "stdout",
          "text": [
            "{'query_transformation': {'messages': ['Request: User needs assistance with resetting their password. Please provide step-by-step instructions or initiate a password reset process for the user.']}}\n",
            "-----\n",
            "{'resolution_agent': {'messages': [AIMessage(content='', additional_kwargs={'tool_calls': [{'index': 0, 'id': 'call_slltpcykQ3m3Bdw7sMKwj3kV', 'function': {'arguments': '{\"query\":\"reset password\"}', 'name': 'retrieve_IT_issues_resolution_instructions'}, 'type': 'function'}]}, response_metadata={'finish_reason': 'tool_calls', 'model_name': 'gpt-4o-2024-08-06', 'system_fingerprint': 'fp_432e014d75'}, id='run-331f73b3-e5fa-413d-a1a8-17365d692d18-0', tool_calls=[{'name': 'retrieve_IT_issues_resolution_instructions', 'args': {'query': 'reset password'}, 'id': 'call_slltpcykQ3m3Bdw7sMKwj3kV', 'type': 'tool_call'}])]}}\n",
            "-----\n",
            "{'retrieve': {'messages': [ToolMessage(content='o Enter your new password in both the \"New password\" and \"Confirm new \\npassword\" fields. \\no Click Next to finalize the reset. \\n6. Confirmation: \\no A confirmation message will indicate that your password has been successfully \\nreset. \\no You can now use your new password to log in to your account. \\n3.2 Best Practices for Password Security \\nTo maintain the security of your account, adhere to the following best practices: \\n• Create Strong Passwords: \\no Use a combination of uppercase and lowercase letters, numbers, and special \\ncharacters. \\no Avoid using easily guessable information such as birthdays, common words, or \\nsequences (e.g., \"password123\" or \"abcd1234\"). \\n• Unique Passwords: \\no Do not reuse passwords across multiple accounts. Each account should have a \\nunique password to prevent a compromise of one account leading to others being \\ncompromised. \\n• Regular Updates: \\no Change your password periodically, at least every 90 days, to enhance security. \\n• Use Multi-Factor Authentication (MFA): \\no Whenever possible, enable MFA for an additional layer of security. This typically \\ninvolves a second verification step, such as a code sent to your phone. \\n• Secure Storage: \\no Utilize a reputable password manager to securely store and manage your \\npasswords. Avoid writing them down or storing them in unsecured documents. \\n3.3 Troubleshooting and Support \\nIf you encounter any issues during the password reset process or have not enrolled in the SSPR \\nsystem, please contact the IT Help Desk for assistance: \\n• Email: helpdesk@company.com\\n  \\n• Phone: (123) 456-7890\\n  \\n• Hours of Operation: Monday to Friday, 8:00 AM to 6:00 PM \\nBy following these guidelines and utilizing the SSPR portal, you can efficiently manage your \\npassword resets and maintain the security of your account.\\n\\no Enter your new password in both the \"New password\" and \"Confirm new \\npassword\" fields. \\no Click Next to finalize the reset. \\n6. Confirmation: \\no A confirmation message will indicate that your password has been successfully \\nreset. \\no You can now use your new password to log in to your account. \\n3.2 Best Practices for Password Security \\nTo maintain the security of your account, adhere to the following best practices: \\n• Create Strong Passwords: \\no Use a combination of uppercase and lowercase letters, numbers, and special \\ncharacters. \\no Avoid using easily guessable information such as birthdays, common words, or \\nsequences (e.g., \"password123\" or \"abcd1234\"). \\n• Unique Passwords: \\no Do not reuse passwords across multiple accounts. Each account should have a \\nunique password to prevent a compromise of one account leading to others being \\ncompromised. \\n• Regular Updates: \\no Change your password periodically, at least every 90 days, to enhance security. \\n• Use Multi-Factor Authentication (MFA): \\no Whenever possible, enable MFA for an additional layer of security. This typically \\ninvolves a second verification step, such as a code sent to your phone. \\n• Secure Storage: \\no Utilize a reputable password manager to securely store and manage your \\npasswords. Avoid writing them down or storing them in unsecured documents. \\n3.3 Troubleshooting and Support \\nIf you encounter any issues during the password reset process or have not enrolled in the SSPR \\nsystem, please contact the IT Help Desk for assistance: \\n• Email: helpdesk@company.com\\n  \\n• Phone: (123) 456-7890\\n  \\n• Hours of Operation: Monday to Friday, 8:00 AM to 6:00 PM \\nBy following these guidelines and utilizing the SSPR portal, you can efficiently manage your \\npassword resets and maintain the security of your account.\\n\\no Enter your new password in both the \"New password\" and \"Confirm new \\npassword\" fields. \\no Click Next to finalize the reset. \\n6. Confirmation: \\no A confirmation message will indicate that your password has been successfully \\nreset. \\no You can now use your new password to log in to your account. \\n3.2 Best Practices for Password Security \\nTo maintain the security of your account, adhere to the following best practices: \\n• Create Strong Passwords: \\no Use a combination of uppercase and lowercase letters, numbers, and special \\ncharacters. \\no Avoid using easily guessable information such as birthdays, common words, or \\nsequences (e.g., \"password123\" or \"abcd1234\"). \\n• Unique Passwords: \\no Do not reuse passwords across multiple accounts. Each account should have a \\nunique password to prevent a compromise of one account leading to others being \\ncompromised. \\n• Regular Updates: \\no Change your password periodically, at least every 90 days, to enhance security. \\n• Use Multi-Factor Authentication (MFA): \\no Whenever possible, enable MFA for an additional layer of security. This typically \\ninvolves a second verification step, such as a code sent to your phone. \\n• Secure Storage: \\no Utilize a reputable password manager to securely store and manage your \\npasswords. Avoid writing them down or storing them in unsecured documents. \\n3.3 Troubleshooting and Support \\nIf you encounter any issues during the password reset process or have not enrolled in the SSPR \\nsystem, please contact the IT Help Desk for assistance: \\n• Email: helpdesk@company.com\\n  \\n• Phone: (123) 456-7890\\n  \\n• Hours of Operation: Monday to Friday, 8:00 AM to 6:00 PM \\nBy following these guidelines and utilizing the SSPR portal, you can efficiently manage your \\npassword resets and maintain the security of your account.\\n\\no Enter your new password in both the \"New password\" and \"Confirm new \\npassword\" fields. \\no Click Next to finalize the reset. \\n6. Confirmation: \\no A confirmation message will indicate that your password has been successfully \\nreset. \\no You can now use your new password to log in to your account. \\n3.2 Best Practices for Password Security \\nTo maintain the security of your account, adhere to the following best practices: \\n• Create Strong Passwords: \\no Use a combination of uppercase and lowercase letters, numbers, and special \\ncharacters. \\no Avoid using easily guessable information such as birthdays, common words, or \\nsequences (e.g., \"password123\" or \"abcd1234\"). \\n• Unique Passwords: \\no Do not reuse passwords across multiple accounts. Each account should have a \\nunique password to prevent a compromise of one account leading to others being \\ncompromised. \\n• Regular Updates: \\no Change your password periodically, at least every 90 days, to enhance security. \\n• Use Multi-Factor Authentication (MFA): \\no Whenever possible, enable MFA for an additional layer of security. This typically \\ninvolves a second verification step, such as a code sent to your phone. \\n• Secure Storage: \\no Utilize a reputable password manager to securely store and manage your \\npasswords. Avoid writing them down or storing them in unsecured documents. \\n3.3 Troubleshooting and Support \\nIf you encounter any issues during the password reset process or have not enrolled in the SSPR \\nsystem, please contact the IT Help Desk for assistance: \\n• Email: helpdesk@company.com\\n  \\n• Phone: (123) 456-7890\\n  \\n• Hours of Operation: Monday to Friday, 8:00 AM to 6:00 PM \\nBy following these guidelines and utilizing the SSPR portal, you can efficiently manage your \\npassword resets and maintain the security of your account.\\n\\nIT Helpdesk Guidelines \\n \\nSection 3: Password Resets \\nMaintaining the security of your accounts is crucial. If you forget your password or need to reset \\nit, follow the steps below to securely regain access to your account. \\n3.1 Using the Self-Service Password Reset (SSPR) Portal \\nOur organization provides a Self-Service Password Reset (SSPR) portal that allows you to reset \\nyour password without contacting the IT Help Desk. \\nPrerequisites: \\n• Ensure you are enrolled in the SSPR system. Enrollment involves setting up \\nauthentication methods (e.g., phone number, email) that will be used to verify your \\nidentity during the password reset process. \\nSteps to Reset Your Password: \\n1. Access the SSPR Portal: \\no Open a web browser and navigate to the SSPR portal at https://aka.ms/sspr. \\n2. Enter Your User Information: \\no In the provided field, enter your full company email address. \\no Complete the CAPTCHA verification as prompted to confirm you are not a robot. \\no Click Next to proceed. \\n3. Select the Issue Type: \\no Choose \"I forgot my password\" from the available options. \\no Click Next. \\n4. Verify Your Identity: \\no Select your preferred verification method from the options you configured during \\nenrollment (e.g., text message, email). \\no Follow the on-screen instructions to complete the verification process. This may \\ninvolve entering a code sent to your phone or email. \\n5. Reset Your Password: \\no Once your identity is verified, you will be prompted to create a new password. \\nEnsure your new password meets the following complexity requirements: \\n▪ At least 8 characters in length. \\n▪ Includes at least one uppercase letter. \\n▪ Includes at least one lowercase letter. \\n▪ Includes at least one numeric digit. \\n▪ Includes at least one special character (e.g., !, @, #, $).\\n\\nIT Helpdesk Guidelines \\n \\nSection 3: Password Resets \\nMaintaining the security of your accounts is crucial. If you forget your password or need to reset \\nit, follow the steps below to securely regain access to your account. \\n3.1 Using the Self-Service Password Reset (SSPR) Portal \\nOur organization provides a Self-Service Password Reset (SSPR) portal that allows you to reset \\nyour password without contacting the IT Help Desk. \\nPrerequisites: \\n• Ensure you are enrolled in the SSPR system. Enrollment involves setting up \\nauthentication methods (e.g., phone number, email) that will be used to verify your \\nidentity during the password reset process. \\nSteps to Reset Your Password: \\n1. Access the SSPR Portal: \\no Open a web browser and navigate to the SSPR portal at https://aka.ms/sspr. \\n2. Enter Your User Information: \\no In the provided field, enter your full company email address. \\no Complete the CAPTCHA verification as prompted to confirm you are not a robot. \\no Click Next to proceed. \\n3. Select the Issue Type: \\no Choose \"I forgot my password\" from the available options. \\no Click Next. \\n4. Verify Your Identity: \\no Select your preferred verification method from the options you configured during \\nenrollment (e.g., text message, email). \\no Follow the on-screen instructions to complete the verification process. This may \\ninvolve entering a code sent to your phone or email. \\n5. Reset Your Password: \\no Once your identity is verified, you will be prompted to create a new password. \\nEnsure your new password meets the following complexity requirements: \\n▪ At least 8 characters in length. \\n▪ Includes at least one uppercase letter. \\n▪ Includes at least one lowercase letter. \\n▪ Includes at least one numeric digit. \\n▪ Includes at least one special character (e.g., !, @, #, $).\\n\\nIT Helpdesk Guidelines \\n \\nSection 3: Password Resets \\nMaintaining the security of your accounts is crucial. If you forget your password or need to reset \\nit, follow the steps below to securely regain access to your account. \\n3.1 Using the Self-Service Password Reset (SSPR) Portal \\nOur organization provides a Self-Service Password Reset (SSPR) portal that allows you to reset \\nyour password without contacting the IT Help Desk. \\nPrerequisites: \\n• Ensure you are enrolled in the SSPR system. Enrollment involves setting up \\nauthentication methods (e.g., phone number, email) that will be used to verify your \\nidentity during the password reset process. \\nSteps to Reset Your Password: \\n1. Access the SSPR Portal: \\no Open a web browser and navigate to the SSPR portal at https://aka.ms/sspr. \\n2. Enter Your User Information: \\no In the provided field, enter your full company email address. \\no Complete the CAPTCHA verification as prompted to confirm you are not a robot. \\no Click Next to proceed. \\n3. Select the Issue Type: \\no Choose \"I forgot my password\" from the available options. \\no Click Next. \\n4. Verify Your Identity: \\no Select your preferred verification method from the options you configured during \\nenrollment (e.g., text message, email). \\no Follow the on-screen instructions to complete the verification process. This may \\ninvolve entering a code sent to your phone or email. \\n5. Reset Your Password: \\no Once your identity is verified, you will be prompted to create a new password. \\nEnsure your new password meets the following complexity requirements: \\n▪ At least 8 characters in length. \\n▪ Includes at least one uppercase letter. \\n▪ Includes at least one lowercase letter. \\n▪ Includes at least one numeric digit. \\n▪ Includes at least one special character (e.g., !, @, #, $).\\n\\nIT Helpdesk Guidelines \\n \\nSection 3: Password Resets \\nMaintaining the security of your accounts is crucial. If you forget your password or need to reset \\nit, follow the steps below to securely regain access to your account. \\n3.1 Using the Self-Service Password Reset (SSPR) Portal \\nOur organization provides a Self-Service Password Reset (SSPR) portal that allows you to reset \\nyour password without contacting the IT Help Desk. \\nPrerequisites: \\n• Ensure you are enrolled in the SSPR system. Enrollment involves setting up \\nauthentication methods (e.g., phone number, email) that will be used to verify your \\nidentity during the password reset process. \\nSteps to Reset Your Password: \\n1. Access the SSPR Portal: \\no Open a web browser and navigate to the SSPR portal at https://aka.ms/sspr. \\n2. Enter Your User Information: \\no In the provided field, enter your full company email address. \\no Complete the CAPTCHA verification as prompted to confirm you are not a robot. \\no Click Next to proceed. \\n3. Select the Issue Type: \\no Choose \"I forgot my password\" from the available options. \\no Click Next. \\n4. Verify Your Identity: \\no Select your preferred verification method from the options you configured during \\nenrollment (e.g., text message, email). \\no Follow the on-screen instructions to complete the verification process. This may \\ninvolve entering a code sent to your phone or email. \\n5. Reset Your Password: \\no Once your identity is verified, you will be prompted to create a new password. \\nEnsure your new password meets the following complexity requirements: \\n▪ At least 8 characters in length. \\n▪ Includes at least one uppercase letter. \\n▪ Includes at least one lowercase letter. \\n▪ Includes at least one numeric digit. \\n▪ Includes at least one special character (e.g., !, @, #, $).\\n\\no If tests are successful, click Next and then Finish. \\n5.2 Configuring Email on Mobile Devices \\nFor iOS (iPhone/iPad): \\n1. Open Settings: \\no Tap the Settings app. \\n2. Add Account: \\no Scroll down and tap Mail > Accounts > Add Account. \\n3. Enter Email Details: \\no Select Other > Add Mail Account. \\no Fill in the following fields: \\n▪ Name: Enter your full name. \\n▪ Email: Enter your full company email address. \\n▪ Password: Enter your email password. \\n▪ Description: Enter a description (e.g., \"Work Email\"). \\no Tap Next. \\n4. Configure Servers: \\no Under Incoming Mail Server, enter: \\n▪ Host Name: Enter the IMAP server address provided by IT. \\n▪ User Name: Enter your full company email address. \\n▪ Password: Enter your email password. \\no Under Outgoing Mail Server, enter: \\n▪ Host Name: Enter the SMTP server address provided by IT. \\n▪ User Name: Enter your full company email address. \\n▪ Password: Enter your email password. \\n5. Save Settings: \\no Tap Save to complete the setup. \\nFor Android: \\n1. Open Settings: \\no Tap the Settings app. \\n2. Add Account: \\no Scroll down and tap Accounts > Add Account > Email. \\n3. Enter Email Details: \\no Enter your full company email address and tap Manual Setup. \\no Select IMAP. \\no Fill in the following fields: \\n▪ Username: Enter your full company email address. \\n▪ Password: Enter your email password. \\n▪ IMAP Server: Enter the IMAP server address provided by IT. \\n▪ Port: Enter the IMAP port number (typically 993 for SSL). \\n▪ Security Type: Select SSL/TLS. \\n▪ SMTP Server: Enter the SMTP server address provided by IT.\\n\\no If tests are successful, click Next and then Finish. \\n5.2 Configuring Email on Mobile Devices \\nFor iOS (iPhone/iPad): \\n1. Open Settings: \\no Tap the Settings app. \\n2. Add Account: \\no Scroll down and tap Mail > Accounts > Add Account. \\n3. Enter Email Details: \\no Select Other > Add Mail Account. \\no Fill in the following fields: \\n▪ Name: Enter your full name. \\n▪ Email: Enter your full company email address. \\n▪ Password: Enter your email password. \\n▪ Description: Enter a description (e.g., \"Work Email\"). \\no Tap Next. \\n4. Configure Servers: \\no Under Incoming Mail Server, enter: \\n▪ Host Name: Enter the IMAP server address provided by IT. \\n▪ User Name: Enter your full company email address. \\n▪ Password: Enter your email password. \\no Under Outgoing Mail Server, enter: \\n▪ Host Name: Enter the SMTP server address provided by IT. \\n▪ User Name: Enter your full company email address. \\n▪ Password: Enter your email password. \\n5. Save Settings: \\no Tap Save to complete the setup. \\nFor Android: \\n1. Open Settings: \\no Tap the Settings app. \\n2. Add Account: \\no Scroll down and tap Accounts > Add Account > Email. \\n3. Enter Email Details: \\no Enter your full company email address and tap Manual Setup. \\no Select IMAP. \\no Fill in the following fields: \\n▪ Username: Enter your full company email address. \\n▪ Password: Enter your email password. \\n▪ IMAP Server: Enter the IMAP server address provided by IT. \\n▪ Port: Enter the IMAP port number (typically 993 for SSL). \\n▪ Security Type: Select SSL/TLS. \\n▪ SMTP Server: Enter the SMTP server address provided by IT.', name='retrieve_IT_issues_resolution_instructions', id='2aff8215-d91f-4c1e-987a-8a2b913ce01f', tool_call_id='call_slltpcykQ3m3Bdw7sMKwj3kV')]}}\n",
            "-----\n",
            "{'reranker': {'messages': [\"Based on the user's query for assistance with resetting their password, the most relevant documents are those that provide step-by-step instructions for a password reset process. Here are the top 5 most relevant documents in descending order of relevance:\\n\\n1. **Document 5**: This document provides a detailed step-by-step guide on using the Self-Service Password Reset (SSPR) portal, including accessing the portal, entering user information, selecting the issue type, verifying identity, and resetting the password with specific complexity requirements. It directly addresses the user's request for password reset instructions.\\n\\n2. **Document 6**: Similar to Document 5, this document outlines the process of using the SSPR portal for password resets, including prerequisites, steps for accessing the portal, verifying identity, and creating a new password. It is highly relevant to the user's query.\\n\\n3. **Document 7**: This document also covers the SSPR portal usage for password resets, detailing the steps to reset a password, including identity verification and password complexity requirements. It is relevant to the user's need for password reset instructions.\\n\\n4. **Document 8**: This document provides instructions for using the SSPR portal to reset passwords, including accessing the portal, verifying identity, and setting a new password. It is relevant to the user's query for password reset assistance.\\n\\n5. **Document 1**: While this document primarily focuses on best practices for password security, it includes a section on troubleshooting and support for password reset issues, directing users to contact the IT Help Desk if they encounter problems. It is somewhat relevant to the user's query as it provides a support contact for password reset assistance.\"]}}\n",
            "-----\n"
          ]
        },
        {
          "output_type": "stream",
          "name": "stderr",
          "text": [
            "/usr/local/lib/python3.11/dist-packages/langchain_openai/chat_models/base.py:1624: UserWarning: Received a Pydantic BaseModel V1 schema. This is not supported by method=\"json_schema\". Please use method=\"function_calling\" or specify schema via JSON Schema or Pydantic V2 BaseModel. Overriding to method=\"function_calling\".\n",
            "  warnings.warn(\n"
          ]
        },
        {
          "output_type": "stream",
          "name": "stdout",
          "text": [
            "{'generate': {'messages': ['To assist you with resetting your password, please follow these step-by-step instructions using the Self-Service Password Reset (SSPR) portal:\\n\\n1. **Access the SSPR Portal:**\\n   - Open your web browser and navigate to the Self-Service Password Reset (SSPR) portal. The URL is typically provided by your organization, so please check your internal resources or contact your IT department if you are unsure.\\n\\n2. **Enter User Information:**\\n   - On the SSPR portal homepage, you will be prompted to enter your user information. This usually includes your username or email address associated with your account.\\n\\n3. **Select the Issue Type:**\\n   - Choose the option that indicates you need to reset your password. This is often labeled as \"Forgot Password\" or \"Reset Password.\"\\n\\n4. **Verify Your Identity:**\\n   - Follow the on-screen instructions to verify your identity. This may involve answering security questions, receiving a verification code via email or SMS, or using an authentication app.\\n\\n5. **Reset Your Password:**\\n   - Once your identity is verified, you will be prompted to create a new password. Ensure that your new password meets the complexity requirements specified by your organization (e.g., minimum length, use of uppercase and lowercase letters, numbers, and special characters).\\n\\n6. **Complete the Process:**\\n   - After setting your new password, confirm the change. You should receive a confirmation message indicating that your password has been successfully reset.\\n\\n7. **Log In:**\\n   - Use your new password to log in to your account and ensure that it works correctly.\\n\\nIf you encounter any issues during this process or if the SSPR portal is not accessible, please contact your IT Help Desk for further assistance.']}}\n",
            "-----\n",
            "{'resolution_agent': {'messages': [AIMessage(content='To assist you with resetting your password, please follow these step-by-step instructions using the Self-Service Password Reset (SSPR) portal:\\n\\n1. **Access the SSPR Portal:**\\n   - Open your web browser and navigate to the Self-Service Password Reset (SSPR) portal at [https://aka.ms/sspr](https://aka.ms/sspr).\\n\\n2. **Enter User Information:**\\n   - Enter your full company email address in the provided field.\\n   - Complete the CAPTCHA verification to confirm you are not a robot.\\n   - Click \"Next\" to proceed.\\n\\n3. **Select the Issue Type:**\\n   - Choose \"I forgot my password\" from the available options.\\n   - Click \"Next.\"\\n\\n4. **Verify Your Identity:**\\n   - Select your preferred verification method from the options you configured during enrollment (e.g., text message, email).\\n   - Follow the on-screen instructions to complete the verification process, which may involve entering a code sent to your phone or email.\\n\\n5. **Reset Your Password:**\\n   - Once your identity is verified, you will be prompted to create a new password. Ensure your new password meets the following complexity requirements:\\n     - At least 8 characters in length.\\n     - Includes at least one uppercase letter.\\n     - Includes at least one lowercase letter.\\n     - Includes at least one numeric digit.\\n     - Includes at least one special character (e.g., !, @, #, $).\\n   - Enter your new password in both the \"New password\" and \"Confirm new password\" fields.\\n   - Click \"Next\" to finalize the reset.\\n\\n6. **Confirmation:**\\n   - A confirmation message will indicate that your password has been successfully reset.\\n   - You can now use your new password to log in to your account.\\n\\nIf you encounter any issues during the password reset process or have not enrolled in the SSPR system, please contact the IT Help Desk for assistance:\\n- **Email:** helpdesk@company.com\\n- **Phone:** (123) 456-7890\\n- **Hours of Operation:** Monday to Friday, 8:00 AM to 6:00 PM\\n\\nBy following these guidelines and utilizing the SSPR portal, you can efficiently manage your password resets and maintain the security of your account.', additional_kwargs={}, response_metadata={'finish_reason': 'stop', 'model_name': 'gpt-4o-2024-08-06', 'system_fingerprint': 'fp_432e014d75'}, id='run-cfd34f67-43c3-45b3-a61c-d6300fa5ff49-0')]}}\n",
            "-----\n"
          ]
        }
      ]
    },
    {
      "cell_type": "code",
      "source": [
        "graph.get_state(config).values[\"messages\"][-1].content"
      ],
      "metadata": {
        "colab": {
          "base_uri": "https://localhost:8080/",
          "height": 290
        },
        "id": "LkX7xsQcFxkP",
        "outputId": "ec8d05a6-cfe1-4be9-8939-6adf03d20052"
      },
      "id": "LkX7xsQcFxkP",
      "execution_count": null,
      "outputs": [
        {
          "output_type": "execute_result",
          "data": {
            "text/plain": [
              "'To assist you with resetting your password, please follow these step-by-step instructions using the Self-Service Password Reset (SSPR) portal:\\n\\n1. **Access the SSPR Portal:**\\n   - Open your web browser and navigate to the Self-Service Password Reset (SSPR) portal at [https://aka.ms/sspr](https://aka.ms/sspr).\\n\\n2. **Enter User Information:**\\n   - Enter your full company email address in the provided field.\\n   - Complete the CAPTCHA verification to confirm you are not a robot.\\n   - Click \"Next\" to proceed.\\n\\n3. **Select the Issue Type:**\\n   - Choose \"I forgot my password\" from the available options.\\n   - Click \"Next.\"\\n\\n4. **Verify Your Identity:**\\n   - Select your preferred verification method from the options you configured during enrollment (e.g., text message, email).\\n   - Follow the on-screen instructions to complete the verification process, which may involve entering a code sent to your phone or email.\\n\\n5. **Reset Your Password:**\\n   - Once your identity is verified, you will be prompted to create a new password. Ensure your new password meets the following complexity requirements:\\n     - At least 8 characters in length.\\n     - Includes at least one uppercase letter.\\n     - Includes at least one lowercase letter.\\n     - Includes at least one numeric digit.\\n     - Includes at least one special character (e.g., !, @, #, $).\\n   - Enter your new password in both the \"New password\" and \"Confirm new password\" fields.\\n   - Click \"Next\" to finalize the reset.\\n\\n6. **Confirmation:**\\n   - A confirmation message will indicate that your password has been successfully reset.\\n   - You can now use your new password to log in to your account.\\n\\nIf you encounter any issues during the password reset process or have not enrolled in the SSPR system, please contact the IT Help Desk for assistance:\\n- **Email:** helpdesk@company.com\\n- **Phone:** (123) 456-7890\\n- **Hours of Operation:** Monday to Friday, 8:00 AM to 6:00 PM\\n\\nBy following these guidelines and utilizing the SSPR portal, you can efficiently manage your password resets and maintain the security of your account.'"
            ],
            "application/vnd.google.colaboratory.intrinsic+json": {
              "type": "string"
            }
          },
          "metadata": {},
          "execution_count": 36
        }
      ]
    },
    {
      "cell_type": "markdown",
      "source": [
        "**Example Run for Esclation User Query**\n",
        "\n",
        "\n"
      ],
      "metadata": {
        "id": "w7m8mPA8Kvpp"
      },
      "id": "w7m8mPA8Kvpp"
    },
    {
      "cell_type": "markdown",
      "source": [
        "The query is routed to an escalation agent, who interrupts to gather human feedback. The user shares system information and troubleshooting details. An Escalation Summary is then generated using a predefined schema, including Escalation Level, Justification, Incident Description, System Information, and Troubleshooting Steps."
      ],
      "metadata": {
        "id": "zDZ27JUJxC8A"
      },
      "id": "zDZ27JUJxC8A"
    },
    {
      "cell_type": "code",
      "source": [
        "config = {\"configurable\": {\"thread_id\": \"2\"}}\n",
        "\n",
        "for s in graph.stream(\n",
        "\n",
        "    {\"messages\": [HumanMessage(\n",
        "        content=\"My VPN is not working.\"\n",
        "        )]},\n",
        "    config\n",
        "):\n",
        "    if \"__end__\" not in s:\n",
        "        print(s)\n",
        "        print(\"-----\")"
      ],
      "metadata": {
        "colab": {
          "base_uri": "https://localhost:8080/"
        },
        "id": "fN75m24tK3V1",
        "outputId": "cc368f44-cea2-4b1a-8f10-3b1116c4ba70"
      },
      "id": "fN75m24tK3V1",
      "execution_count": null,
      "outputs": [
        {
          "output_type": "stream",
          "name": "stderr",
          "text": [
            "/usr/local/lib/python3.11/dist-packages/langchain_openai/chat_models/base.py:1624: UserWarning: Received a Pydantic BaseModel V1 schema. This is not supported by method=\"json_schema\". Please use method=\"function_calling\" or specify schema via JSON Schema or Pydantic V2 BaseModel. Overriding to method=\"function_calling\".\n",
            "  warnings.warn(\n"
          ]
        },
        {
          "output_type": "stream",
          "name": "stdout",
          "text": [
            "{'query_transformation': {'messages': ['Request: Investigate and resolve the issue with the VPN not functioning.']}}\n",
            "-----\n",
            "{'__interrupt__': (Interrupt(value=\"\\n      **IT Request Form:**\\n\\n      Incident Description\\n      [Provide a brief overview of the problem encountered]\\u200b\\n\\n      System Information\\n      [Device Type, Operating System, Software, Hardware]\\n\\n      Troubleshooting Steps Taken\\n      [List any troubleshooting steps you've already tried]\\u200b\\n\\n    \", resumable=True, ns=['esclation_agent:5e1dbeb1-b971-6e1a-4d87-fb0a1e4c6912']),)}\n",
            "-----\n"
          ]
        }
      ]
    },
    {
      "cell_type": "code",
      "source": [
        "human_feedback = \"\"\"\n",
        "I am experiencing issues with my VPN connection; it is not functioning as expected.​\n",
        "\n",
        "System Information:\n",
        "\n",
        "Device Type: Laptop​\n",
        "\n",
        "Operating System: Windows 10 Pro​\n",
        "\n",
        "VPN Software: Cisco AnyConnect Secure Mobility Client​\n",
        "\n",
        "Hardware: HP EliteBook 840 G7, Intel Core i7, 16 GB RAM​\n",
        "\n",
        "Troubleshooting Steps Taken:\n",
        "I have taken several steps to resolve the VPN connectivity issue.\n",
        "Initially, I ensured that my internet connection is stable by verifying network connectivity.\n",
        "I then restarted the Cisco AnyConnect application to reset the connection, followed by rebooting my HP EliteBook to address any temporary system glitches.\n",
        "I also confirmed that my VPN credentials are correct and up to date.\n",
        "Additionally, I reviewed firewall and security software settings to ensure they are not interfering with the VPN connection.\n",
        "I attempted to connect to different VPN servers to rule out server-specific issues and made sure that the Cisco AnyConnect application is updated to the latest version.\n",
        "I also verified that the correct VPN protocol is selected and that the VPN configuration aligns with recommended settings.\n",
        "Finally, I consulted the Cisco AnyConnect support resources, including troubleshooting guides and FAQs.\n",
        "Despite these efforts, the VPN connection issue persists. I would appreciate further assistance in resolving this matter.\n",
        "\"\"\"\n",
        "\n",
        "for event in graph.stream(Command(resume = human_feedback), config, stream_mode=\"values\"):\n",
        "    event[\"messages\"][-1].pretty_print()"
      ],
      "metadata": {
        "colab": {
          "base_uri": "https://localhost:8080/"
        },
        "id": "cyFr2cqgR2CA",
        "outputId": "d14a6f2c-c964-4acc-c4e9-4392b3c61b23"
      },
      "id": "cyFr2cqgR2CA",
      "execution_count": null,
      "outputs": [
        {
          "output_type": "stream",
          "name": "stdout",
          "text": [
            "================================\u001b[1m Human Message \u001b[0m=================================\n",
            "\n",
            "Request: Investigate and resolve the issue with the VPN not functioning.\n",
            "================================\u001b[1m Human Message \u001b[0m=================================\n",
            "\n",
            "\n",
            "I am experiencing issues with my VPN connection; it is not functioning as expected.​\n",
            "\n",
            "System Information:\n",
            "\n",
            "Device Type: Laptop​\n",
            "\n",
            "Operating System: Windows 10 Pro​\n",
            "\n",
            "VPN Software: Cisco AnyConnect Secure Mobility Client​\n",
            "\n",
            "Hardware: HP EliteBook 840 G7, Intel Core i7, 16 GB RAM​\n",
            "\n",
            "Troubleshooting Steps Taken: \n",
            "I have taken several steps to resolve the VPN connectivity issue. \n",
            "Initially, I ensured that my internet connection is stable by verifying network connectivity. \n",
            "I then restarted the Cisco AnyConnect application to reset the connection, followed by rebooting my HP EliteBook to address any temporary system glitches. \n",
            "I also confirmed that my VPN credentials are correct and up to date. \n",
            "Additionally, I reviewed firewall and security software settings to ensure they are not interfering with the VPN connection. \n",
            "I attempted to connect to different VPN servers to rule out server-specific issues and made sure that the Cisco AnyConnect application is updated to the latest version. \n",
            "I also verified that the correct VPN protocol is selected and that the VPN configuration aligns with recommended settings. \n",
            "Finally, I consulted the Cisco AnyConnect support resources, including troubleshooting guides and FAQs. \n",
            "Despite these efforts, the VPN connection issue persists. I would appreciate further assistance in resolving this matter.\n",
            "\n"
          ]
        },
        {
          "output_type": "stream",
          "name": "stderr",
          "text": [
            "/usr/local/lib/python3.11/dist-packages/langchain_openai/chat_models/base.py:1624: UserWarning: Received a Pydantic BaseModel V1 schema. This is not supported by method=\"json_schema\". Please use method=\"function_calling\" or specify schema via JSON Schema or Pydantic V2 BaseModel. Overriding to method=\"function_calling\".\n",
            "  warnings.warn(\n"
          ]
        },
        {
          "output_type": "stream",
          "name": "stdout",
          "text": [
            "================================\u001b[1m Human Message \u001b[0m=================================\n",
            "\n",
            "Esclation Report\n",
            "\n",
            "Esclation_Level='High' Esclation_Justification='The VPN connectivity issue persists despite extensive troubleshooting efforts, impacting work productivity.' IncidentDescription='The VPN connection using Cisco AnyConnect Secure Mobility Client is not functioning as expected on a Windows 10 Pro laptop (HP EliteBook 840 G7).' SystemInformation='Device Type: Laptop, Operating System: Windows 10 Pro, VPN Software: Cisco AnyConnect Secure Mobility Client, Hardware: HP EliteBook 840 G7, Intel Core i7, 16 GB RAM' TroubleShootingStesps='1. Verified stable internet connection. 2. Restarted Cisco AnyConnect application. 3. Rebooted laptop. 4. Confirmed VPN credentials. 5. Reviewed firewall and security software settings. 6. Attempted connection to different VPN servers. 7. Updated Cisco AnyConnect to latest version. 8. Verified correct VPN protocol and configuration. 9. Consulted Cisco AnyConnect support resources.'\n"
          ]
        }
      ]
    },
    {
      "cell_type": "code",
      "source": [
        "graph.get_state(config).values[\"messages\"][-1].content"
      ],
      "metadata": {
        "colab": {
          "base_uri": "https://localhost:8080/",
          "height": 144
        },
        "id": "5FDL6BdRCWof",
        "outputId": "77218bce-32d6-4b64-d8ef-0d53ef973d73"
      },
      "id": "5FDL6BdRCWof",
      "execution_count": null,
      "outputs": [
        {
          "output_type": "execute_result",
          "data": {
            "text/plain": [
              "\"Esclation Report\\n\\nEsclation_Level='High' Esclation_Justification='The VPN connectivity issue persists despite extensive troubleshooting efforts, impacting work productivity.' IncidentDescription='The VPN connection using Cisco AnyConnect Secure Mobility Client is not functioning as expected on a Windows 10 Pro laptop (HP EliteBook 840 G7).' SystemInformation='Device Type: Laptop, Operating System: Windows 10 Pro, VPN Software: Cisco AnyConnect Secure Mobility Client, Hardware: HP EliteBook 840 G7, Intel Core i7, 16 GB RAM' TroubleShootingStesps='1. Verified stable internet connection. 2. Restarted Cisco AnyConnect application. 3. Rebooted laptop. 4. Confirmed VPN credentials. 5. Reviewed firewall and security software settings. 6. Attempted connection to different VPN servers. 7. Updated Cisco AnyConnect to latest version. 8. Verified correct VPN protocol and configuration. 9. Consulted Cisco AnyConnect support resources.'\""
            ],
            "application/vnd.google.colaboratory.intrinsic+json": {
              "type": "string"
            }
          },
          "metadata": {},
          "execution_count": 40
        }
      ]
    }
  ],
  "metadata": {
    "kernelspec": {
      "display_name": "Python 3",
      "language": "python",
      "name": "python3"
    },
    "language_info": {
      "codemirror_mode": {
        "name": "ipython",
        "version": 3
      },
      "file_extension": ".py",
      "mimetype": "text/x-python",
      "name": "python",
      "nbconvert_exporter": "python",
      "pygments_lexer": "ipython3",
      "version": "3.10.7"
    },
    "colab": {
      "provenance": []
    }
  },
  "nbformat": 4,
  "nbformat_minor": 5
}